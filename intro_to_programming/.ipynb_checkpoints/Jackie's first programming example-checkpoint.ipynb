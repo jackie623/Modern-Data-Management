{
 "metadata": {
  "name": ""
 },
 "nbformat": 3,
 "nbformat_minor": 0,
 "worksheets": [
  {
   "cells": [
    {
     "cell_type": "code",
     "collapsed": false,
     "input": [
      "my_string = \"This is a string.\"\n",
      "my_string"
     ],
     "language": "python",
     "metadata": {},
     "outputs": [
      {
       "metadata": {},
       "output_type": "pyout",
       "prompt_number": 16,
       "text": [
        "'This is a string.'"
       ]
      }
     ],
     "prompt_number": 16
    },
    {
     "cell_type": "markdown",
     "metadata": {},
     "source": [
      "I named the string my_string, but I could have named it whatever I want."
     ]
    },
    {
     "cell_type": "code",
     "collapsed": false,
     "input": [
      "for letter in my_string:\n",
      "    print letter"
     ],
     "language": "python",
     "metadata": {},
     "outputs": [
      {
       "output_type": "stream",
       "stream": "stdout",
       "text": [
        "T\n",
        "h\n",
        "i\n",
        "s\n",
        " \n",
        "i\n",
        "s\n",
        " \n",
        "a\n",
        " \n",
        "s\n",
        "t\n",
        "r\n",
        "i\n",
        "n\n",
        "g\n",
        ".\n"
       ]
      }
     ],
     "prompt_number": 17
    },
    {
     "cell_type": "code",
     "collapsed": false,
     "input": [
      "print my_string"
     ],
     "language": "python",
     "metadata": {},
     "outputs": [
      {
       "output_type": "stream",
       "stream": "stdout",
       "text": [
        "This is a string.\n"
       ]
      }
     ],
     "prompt_number": 18
    },
    {
     "cell_type": "code",
     "collapsed": false,
     "input": [
      "my_string + ' Duh, I know'"
     ],
     "language": "python",
     "metadata": {},
     "outputs": [
      {
       "metadata": {},
       "output_type": "pyout",
       "prompt_number": 19,
       "text": [
        "'This is a string. Duh, I know'"
       ]
      }
     ],
     "prompt_number": 19
    },
    {
     "cell_type": "code",
     "collapsed": false,
     "input": [
      "my_string - ' Duh, I know'"
     ],
     "language": "python",
     "metadata": {},
     "outputs": [
      {
       "ename": "TypeError",
       "evalue": "unsupported operand type(s) for -: 'str' and 'str'",
       "output_type": "pyerr",
       "traceback": [
        "\u001b[0;31m---------------------------------------------------------------------------\u001b[0m\n\u001b[0;31mTypeError\u001b[0m                                 Traceback (most recent call last)",
        "\u001b[0;32m<ipython-input-8-31737c3d94d0>\u001b[0m in \u001b[0;36m<module>\u001b[0;34m()\u001b[0m\n\u001b[0;32m----> 1\u001b[0;31m \u001b[0mmy_string\u001b[0m \u001b[0;34m-\u001b[0m \u001b[0;34m' Duh, I know'\u001b[0m\u001b[0;34m\u001b[0m\u001b[0m\n\u001b[0m",
        "\u001b[0;31mTypeError\u001b[0m: unsupported operand type(s) for -: 'str' and 'str'"
       ]
      }
     ],
     "prompt_number": 8
    },
    {
     "cell_type": "code",
     "collapsed": false,
     "input": [
      "type(my_string)"
     ],
     "language": "python",
     "metadata": {},
     "outputs": [
      {
       "metadata": {},
       "output_type": "pyout",
       "prompt_number": 20,
       "text": [
        "str"
       ]
      }
     ],
     "prompt_number": 20
    },
    {
     "cell_type": "code",
     "collapsed": false,
     "input": [
      "1 - 1"
     ],
     "language": "python",
     "metadata": {},
     "outputs": [
      {
       "metadata": {},
       "output_type": "pyout",
       "prompt_number": 21,
       "text": [
        "0"
       ]
      }
     ],
     "prompt_number": 21
    },
    {
     "cell_type": "code",
     "collapsed": false,
     "input": [
      "type(1)"
     ],
     "language": "python",
     "metadata": {},
     "outputs": [
      {
       "metadata": {},
       "output_type": "pyout",
       "prompt_number": 22,
       "text": [
        "int"
       ]
      }
     ],
     "prompt_number": 22
    },
    {
     "cell_type": "code",
     "collapsed": false,
     "input": [
      "type(1-1.5)"
     ],
     "language": "python",
     "metadata": {},
     "outputs": [
      {
       "metadata": {},
       "output_type": "pyout",
       "prompt_number": 23,
       "text": [
        "float"
       ]
      }
     ],
     "prompt_number": 23
    },
    {
     "cell_type": "markdown",
     "metadata": {},
     "source": [
      "Let's take a quick detour and see what other comparison functions there are for numbers."
     ]
    },
    {
     "cell_type": "code",
     "collapsed": false,
     "input": [
      "5 > 4\n",
      "4 < 5"
     ],
     "language": "python",
     "metadata": {},
     "outputs": [
      {
       "metadata": {},
       "output_type": "pyout",
       "prompt_number": 24,
       "text": [
        "True"
       ]
      }
     ],
     "prompt_number": 24
    },
    {
     "cell_type": "code",
     "collapsed": false,
     "input": [
      "type(5>4)"
     ],
     "language": "python",
     "metadata": {},
     "outputs": [
      {
       "metadata": {},
       "output_type": "pyout",
       "prompt_number": 25,
       "text": [
        "bool"
       ]
      }
     ],
     "prompt_number": 25
    },
    {
     "cell_type": "markdown",
     "metadata": {},
     "source": [
      "A 'bool' type is another important primitive type - it has two options, true or false. It is commonly used as a branching tool in conjuction with the 'if' keyword."
     ]
    },
    {
     "cell_type": "code",
     "collapsed": false,
     "input": [
      "if 5 > 4:\n",
      "    print 'I can do math!'\n",
      "else:\n",
      "    ':('"
     ],
     "language": "python",
     "metadata": {},
     "outputs": [
      {
       "output_type": "stream",
       "stream": "stdout",
       "text": [
        "I can do math!\n"
       ]
      }
     ],
     "prompt_number": 26
    },
    {
     "cell_type": "markdown",
     "metadata": {},
     "source": [
      "Booleans aren't just for numbers, either."
     ]
    },
    {
     "cell_type": "code",
     "collapsed": false,
     "input": [
      "if my_string is 'some other string':\n",
      "    print 'That\\'s not what I expected!'\n",
      "elif my_string is 'This is a string.':\n",
      "    print 'That\\'s not what I expected either.'\n",
      "elif my_string is my_string:\n",
      "    print 'That\\'s what I expected.'"
     ],
     "language": "python",
     "metadata": {},
     "outputs": [
      {
       "output_type": "stream",
       "stream": "stdout",
       "text": [
        "That's what I expected.\n"
       ]
      }
     ],
     "prompt_number": 28
    },
    {
     "cell_type": "markdown",
     "metadata": {},
     "source": [
      "Why doesn't the first elif statement get printed? While the object that the my_string variable points to looks the same as the string I typed in, they're not the same, because they represent two different objects in memory! This is a subtle difference, but very important for understanding what your code is doing."
     ]
    },
    {
     "cell_type": "markdown",
     "metadata": {},
     "source": [
      "So far, we've seen three different data types: a string, an int, and a float. And they seem pretty self explanitory: a string is text, an int is an integer, and a float is decimal point number. Let's look at a few other things that can be functions that can be called on strings."
     ]
    },
    {
     "cell_type": "markdown",
     "metadata": {},
     "source": [
      "In bash, all of the functions we called were global, like the functions len and dir, below:"
     ]
    },
    {
     "cell_type": "code",
     "collapsed": false,
     "input": [
      "len(my_string)"
     ],
     "language": "python",
     "metadata": {},
     "outputs": [
      {
       "metadata": {},
       "output_type": "pyout",
       "prompt_number": 29,
       "text": [
        "17"
       ]
      }
     ],
     "prompt_number": 29
    },
    {
     "cell_type": "markdown",
     "metadata": {},
     "source": [
      "However, python is an object-oriented programming language, so you can also define functions that exist only for a specific type of objects. Let's see what functions exist only for strings."
     ]
    },
    {
     "cell_type": "code",
     "collapsed": false,
     "input": [
      "dir(my_string)"
     ],
     "language": "python",
     "metadata": {},
     "outputs": [
      {
       "metadata": {},
       "output_type": "pyout",
       "prompt_number": 31,
       "text": [
        "['__add__',\n",
        " '__class__',\n",
        " '__contains__',\n",
        " '__delattr__',\n",
        " '__doc__',\n",
        " '__eq__',\n",
        " '__format__',\n",
        " '__ge__',\n",
        " '__getattribute__',\n",
        " '__getitem__',\n",
        " '__getnewargs__',\n",
        " '__getslice__',\n",
        " '__gt__',\n",
        " '__hash__',\n",
        " '__init__',\n",
        " '__le__',\n",
        " '__len__',\n",
        " '__lt__',\n",
        " '__mod__',\n",
        " '__mul__',\n",
        " '__ne__',\n",
        " '__new__',\n",
        " '__reduce__',\n",
        " '__reduce_ex__',\n",
        " '__repr__',\n",
        " '__rmod__',\n",
        " '__rmul__',\n",
        " '__setattr__',\n",
        " '__sizeof__',\n",
        " '__str__',\n",
        " '__subclasshook__',\n",
        " '_formatter_field_name_split',\n",
        " '_formatter_parser',\n",
        " 'capitalize',\n",
        " 'center',\n",
        " 'count',\n",
        " 'decode',\n",
        " 'encode',\n",
        " 'endswith',\n",
        " 'expandtabs',\n",
        " 'find',\n",
        " 'format',\n",
        " 'index',\n",
        " 'isalnum',\n",
        " 'isalpha',\n",
        " 'isdigit',\n",
        " 'islower',\n",
        " 'isspace',\n",
        " 'istitle',\n",
        " 'isupper',\n",
        " 'join',\n",
        " 'ljust',\n",
        " 'lower',\n",
        " 'lstrip',\n",
        " 'partition',\n",
        " 'replace',\n",
        " 'rfind',\n",
        " 'rindex',\n",
        " 'rjust',\n",
        " 'rpartition',\n",
        " 'rsplit',\n",
        " 'rstrip',\n",
        " 'split',\n",
        " 'splitlines',\n",
        " 'startswith',\n",
        " 'strip',\n",
        " 'swapcase',\n",
        " 'title',\n",
        " 'translate',\n",
        " 'upper',\n",
        " 'zfill']"
       ]
      }
     ],
     "prompt_number": 31
    },
    {
     "cell_type": "code",
     "collapsed": false,
     "input": [
      "help(my_string)"
     ],
     "language": "python",
     "metadata": {},
     "outputs": []
    },
    {
     "cell_type": "code",
     "collapsed": false,
     "input": [
      "my_string.split?"
     ],
     "language": "python",
     "metadata": {},
     "outputs": [],
     "prompt_number": 32
    },
    {
     "cell_type": "markdown",
     "metadata": {},
     "source": [
      "Let's take a function that is really useful to know for strings. "
     ]
    },
    {
     "cell_type": "code",
     "collapsed": false,
     "input": [
      "print my_string\n",
      "l = my_string.split(' ')\n",
      "l"
     ],
     "language": "python",
     "metadata": {},
     "outputs": [
      {
       "output_type": "stream",
       "stream": "stdout",
       "text": [
        "This is a string.\n"
       ]
      },
      {
       "metadata": {},
       "output_type": "pyout",
       "prompt_number": 33,
       "text": [
        "['This', 'is', 'a', 'string.']"
       ]
      }
     ],
     "prompt_number": 33
    },
    {
     "cell_type": "code",
     "collapsed": false,
     "input": [
      "type(l)"
     ],
     "language": "python",
     "metadata": {},
     "outputs": [
      {
       "metadata": {},
       "output_type": "pyout",
       "prompt_number": 34,
       "text": [
        "list"
       ]
      }
     ],
     "prompt_number": 34
    },
    {
     "cell_type": "code",
     "collapsed": false,
     "input": [
      "for word in l:\n",
      "    print word"
     ],
     "language": "python",
     "metadata": {},
     "outputs": [
      {
       "output_type": "stream",
       "stream": "stdout",
       "text": [
        "This\n",
        "is\n",
        "a\n",
        "string.\n"
       ]
      }
     ],
     "prompt_number": 35
    },
    {
     "cell_type": "markdown",
     "metadata": {},
     "source": [
      "What else can we do with lists?"
     ]
    },
    {
     "cell_type": "markdown",
     "metadata": {},
     "source": [
      "Let's look at a realistic example. Suppose we've already imported one of our csvs and we've saved an interesting list of numbers in the variable water_usage. Let's say water_usage contains the amount of water the plant was given each day in milliliters."
     ]
    },
    {
     "cell_type": "code",
     "collapsed": false,
     "input": [
      "water_usage = [23, 54, 34,6, 57, 58, 34, 45, 2, 34, 23, 43]"
     ],
     "language": "python",
     "metadata": {},
     "outputs": [],
     "prompt_number": 36
    },
    {
     "cell_type": "code",
     "collapsed": false,
     "input": [
      "water_usage[0] # water usage on day 1"
     ],
     "language": "python",
     "metadata": {},
     "outputs": [
      {
       "metadata": {},
       "output_type": "pyout",
       "prompt_number": 37,
       "text": [
        "23"
       ]
      }
     ],
     "prompt_number": 37
    },
    {
     "cell_type": "code",
     "collapsed": false,
     "input": [
      "water_usage[:7] # water usage for week 1"
     ],
     "language": "python",
     "metadata": {},
     "outputs": [
      {
       "metadata": {},
       "output_type": "pyout",
       "prompt_number": 58,
       "text": [
        "0"
       ]
      }
     ],
     "prompt_number": 58
    },
    {
     "cell_type": "code",
     "collapsed": false,
     "input": [
      "sum = 0\n",
      "for reading in water_usage[:7]:\n",
      "    sum = sum + reading\n",
      "sum"
     ],
     "language": "python",
     "metadata": {},
     "outputs": [
      {
       "metadata": {},
       "output_type": "pyout",
       "prompt_number": 39,
       "text": [
        "266"
       ]
      }
     ],
     "prompt_number": 39
    },
    {
     "cell_type": "markdown",
     "metadata": {},
     "source": [
      "Exercise 1: Write a for loop to find the maximum water usage reading in the above list. "
     ]
    },
    {
     "cell_type": "code",
     "collapsed": false,
     "input": [
      "# Type your code here\n",
      "import numpy as np\n",
      "\n",
      "max_water_usage = -np.inf\n",
      "for w in water_usage:\n",
      "    #print w\n",
      "    if w > max_water_usage:\n",
      "        max_water_usage = w\n",
      "\n",
      "print max_water_usage"
     ],
     "language": "python",
     "metadata": {},
     "outputs": [
      {
       "output_type": "stream",
       "stream": "stdout",
       "text": [
        "58\n"
       ]
      }
     ],
     "prompt_number": 54
    },
    {
     "cell_type": "markdown",
     "metadata": {},
     "source": [
      "Bonus: Across any set of seven consecutive days, how much water did you use?"
     ]
    },
    {
     "cell_type": "code",
     "collapsed": false,
     "input": [
      "# Type your answer here\n",
      "\n",
      "seven_day_water = water_usage[:len(water_usage)-7]\n",
      "\n",
      "for w in [:len(water_usage)-7]:\n",
      "    seven_day_water[w] = sum(water_usage[w:w+7])\n",
      "\n"
     ],
     "language": "python",
     "metadata": {},
     "outputs": [
      {
       "ename": "SyntaxError",
       "evalue": "invalid syntax (<ipython-input-57-382ecdce2f85>, line 5)",
       "output_type": "pyerr",
       "traceback": [
        "\u001b[0;36m  File \u001b[0;32m\"<ipython-input-57-382ecdce2f85>\"\u001b[0;36m, line \u001b[0;32m5\u001b[0m\n\u001b[0;31m    for w in [:len(water_usage)-7]:\u001b[0m\n\u001b[0m              ^\u001b[0m\n\u001b[0;31mSyntaxError\u001b[0m\u001b[0;31m:\u001b[0m invalid syntax\n"
       ]
      }
     ],
     "prompt_number": 57
    },
    {
     "cell_type": "markdown",
     "metadata": {},
     "source": [
      "Suppose we have another list that corresponds to the amount grown per day, in cm."
     ]
    },
    {
     "cell_type": "code",
     "collapsed": false,
     "input": [
      "inches_grown = [2.0, .1, 0,.12, 2, 1.4, 1.9, 1.0, 0, .32, .23, .43]"
     ],
     "language": "python",
     "metadata": {},
     "outputs": [],
     "prompt_number": 61
    },
    {
     "cell_type": "code",
     "collapsed": false,
     "input": [
      "import matplotlib.pyplot as plt\n",
      "dir(plt)"
     ],
     "language": "python",
     "metadata": {},
     "outputs": [
      {
       "metadata": {},
       "output_type": "pyout",
       "prompt_number": 62,
       "text": [
        "['Annotation',\n",
        " 'Arrow',\n",
        " 'Artist',\n",
        " 'AutoLocator',\n",
        " 'Axes',\n",
        " 'Button',\n",
        " 'Circle',\n",
        " 'Figure',\n",
        " 'FigureCanvasBase',\n",
        " 'FixedFormatter',\n",
        " 'FixedLocator',\n",
        " 'FormatStrFormatter',\n",
        " 'Formatter',\n",
        " 'FuncFormatter',\n",
        " 'GridSpec',\n",
        " 'IndexLocator',\n",
        " 'Line2D',\n",
        " 'LinearLocator',\n",
        " 'Locator',\n",
        " 'LogFormatter',\n",
        " 'LogFormatterExponent',\n",
        " 'LogFormatterMathtext',\n",
        " 'LogLocator',\n",
        " 'MaxNLocator',\n",
        " 'MultipleLocator',\n",
        " 'Normalize',\n",
        " 'NullFormatter',\n",
        " 'NullLocator',\n",
        " 'PolarAxes',\n",
        " 'Polygon',\n",
        " 'Rectangle',\n",
        " 'ScalarFormatter',\n",
        " 'Slider',\n",
        " 'Subplot',\n",
        " 'SubplotTool',\n",
        " 'Text',\n",
        " 'TickHelper',\n",
        " 'Widget',\n",
        " '__builtins__',\n",
        " '__doc__',\n",
        " '__file__',\n",
        " '__name__',\n",
        " '__package__',\n",
        " '_autogen_docstring',\n",
        " '_backend_mod',\n",
        " '_backend_selection',\n",
        " '_imread',\n",
        " '_imsave',\n",
        " '_interactive_bk',\n",
        " '_pylab_helpers',\n",
        " '_setp',\n",
        " '_setup_pyplot_info_docstrings',\n",
        " '_show',\n",
        " '_string_to_bool',\n",
        " 'acorr',\n",
        " 'annotate',\n",
        " 'arrow',\n",
        " 'autoscale',\n",
        " 'autumn',\n",
        " 'axes',\n",
        " 'axhline',\n",
        " 'axhspan',\n",
        " 'axis',\n",
        " 'axvline',\n",
        " 'axvspan',\n",
        " 'bar',\n",
        " 'barbs',\n",
        " 'barh',\n",
        " 'bone',\n",
        " 'box',\n",
        " 'boxplot',\n",
        " 'broken_barh',\n",
        " 'cla',\n",
        " 'clabel',\n",
        " 'clf',\n",
        " 'clim',\n",
        " 'close',\n",
        " 'cm',\n",
        " 'cohere',\n",
        " 'colorbar',\n",
        " 'colormaps',\n",
        " 'colors',\n",
        " 'connect',\n",
        " 'contour',\n",
        " 'contourf',\n",
        " 'cool',\n",
        " 'copper',\n",
        " 'csd',\n",
        " 'dedent',\n",
        " 'delaxes',\n",
        " 'disconnect',\n",
        " 'docstring',\n",
        " 'draw',\n",
        " 'draw_if_interactive',\n",
        " 'errorbar',\n",
        " 'eventplot',\n",
        " 'figaspect',\n",
        " 'figimage',\n",
        " 'figlegend',\n",
        " 'fignum_exists',\n",
        " 'figtext',\n",
        " 'figure',\n",
        " 'fill',\n",
        " 'fill_between',\n",
        " 'fill_betweenx',\n",
        " 'findobj',\n",
        " 'flag',\n",
        " 'gca',\n",
        " 'gcf',\n",
        " 'gci',\n",
        " 'get',\n",
        " 'get_backend',\n",
        " 'get_cmap',\n",
        " 'get_current_fig_manager',\n",
        " 'get_figlabels',\n",
        " 'get_fignums',\n",
        " 'get_plot_commands',\n",
        " 'get_scale_docs',\n",
        " 'get_scale_names',\n",
        " 'getp',\n",
        " 'ginput',\n",
        " 'gray',\n",
        " 'grid',\n",
        " 'hexbin',\n",
        " 'hist',\n",
        " 'hist2d',\n",
        " 'hlines',\n",
        " 'hold',\n",
        " 'hot',\n",
        " 'hsv',\n",
        " 'imread',\n",
        " 'imsave',\n",
        " 'imshow',\n",
        " 'interactive',\n",
        " 'ioff',\n",
        " 'ion',\n",
        " 'is_numlike',\n",
        " 'is_string_like',\n",
        " 'ishold',\n",
        " 'isinteractive',\n",
        " 'jet',\n",
        " 'legend',\n",
        " 'locator_params',\n",
        " 'loglog',\n",
        " 'margins',\n",
        " 'matplotlib',\n",
        " 'matshow',\n",
        " 'minorticks_off',\n",
        " 'minorticks_on',\n",
        " 'mlab',\n",
        " 'new_figure_manager',\n",
        " 'normalize',\n",
        " 'np',\n",
        " 'over',\n",
        " 'pause',\n",
        " 'pcolor',\n",
        " 'pcolormesh',\n",
        " 'pie',\n",
        " 'pink',\n",
        " 'plot',\n",
        " 'plot_date',\n",
        " 'plotfile',\n",
        " 'plotting',\n",
        " 'polar',\n",
        " 'print_function',\n",
        " 'prism',\n",
        " 'psd',\n",
        " 'pylab_setup',\n",
        " 'quiver',\n",
        " 'quiverkey',\n",
        " 'rc',\n",
        " 'rcParams',\n",
        " 'rcParamsDefault',\n",
        " 'rc_context',\n",
        " 'rcdefaults',\n",
        " 'register_cmap',\n",
        " 'rgrids',\n",
        " 'savefig',\n",
        " 'sca',\n",
        " 'scatter',\n",
        " 'sci',\n",
        " 'semilogx',\n",
        " 'semilogy',\n",
        " 'set_cmap',\n",
        " 'setp',\n",
        " 'show',\n",
        " 'silent_list',\n",
        " 'specgram',\n",
        " 'spectral',\n",
        " 'spring',\n",
        " 'spy',\n",
        " 'stackplot',\n",
        " 'stem',\n",
        " 'step',\n",
        " 'streamplot',\n",
        " 'subplot',\n",
        " 'subplot2grid',\n",
        " 'subplot_tool',\n",
        " 'subplots',\n",
        " 'subplots_adjust',\n",
        " 'summer',\n",
        " 'suptitle',\n",
        " 'switch_backend',\n",
        " 'sys',\n",
        " 'table',\n",
        " 'text',\n",
        " 'thetagrids',\n",
        " 'tick_params',\n",
        " 'ticklabel_format',\n",
        " 'tight_layout',\n",
        " 'title',\n",
        " 'tricontour',\n",
        " 'tricontourf',\n",
        " 'tripcolor',\n",
        " 'triplot',\n",
        " 'twinx',\n",
        " 'twiny',\n",
        " 'vlines',\n",
        " 'waitforbuttonpress',\n",
        " 'warnings',\n",
        " 'winter',\n",
        " 'xcorr',\n",
        " 'xkcd',\n",
        " 'xlabel',\n",
        " 'xlim',\n",
        " 'xscale',\n",
        " 'xticks',\n",
        " 'ylabel',\n",
        " 'ylim',\n",
        " 'yscale',\n",
        " 'yticks']"
       ]
      }
     ],
     "prompt_number": 62
    },
    {
     "cell_type": "code",
     "collapsed": false,
     "input": [
      "#import matplotlib.pyplot as plt\n",
      "the_plot = plt.plot(water_usage, inches_grown)\n",
      "the_plot"
     ],
     "language": "python",
     "metadata": {},
     "outputs": [
      {
       "metadata": {},
       "output_type": "pyout",
       "prompt_number": 63,
       "text": [
        "[<matplotlib.lines.Line2D at 0x108171bd0>]"
       ]
      }
     ],
     "prompt_number": 63
    },
    {
     "cell_type": "markdown",
     "metadata": {},
     "source": [
      "Great! We'll explore plotting a little more in depth later on, when we have some more complicated data."
     ]
    },
    {
     "cell_type": "markdown",
     "metadata": {},
     "source": [
      "Ok, let's try reading in an actual csv data file."
     ]
    },
    {
     "cell_type": "code",
     "collapsed": false,
     "input": [
      "from pandas import *\n",
      "data_frame = pandas.read_csv('sample-files/plant-experiment-data.csv')\n",
      "type(data_frame)"
     ],
     "language": "python",
     "metadata": {},
     "outputs": [
      {
       "output_type": "pyout",
       "prompt_number": 1,
       "text": [
        "pandas.core.frame.DataFrame"
       ]
      }
     ],
     "prompt_number": 1
    },
    {
     "cell_type": "code",
     "collapsed": false,
     "input": [
      "data_frame.head()"
     ],
     "language": "python",
     "metadata": {},
     "outputs": [
      {
       "html": [
        "<div style=\"max-height:1000px;max-width:1500px;overflow:auto;\">\n",
        "<table border=\"1\" class=\"dataframe\">\n",
        "  <thead>\n",
        "    <tr style=\"text-align: right;\">\n",
        "      <th></th>\n",
        "      <th>Name</th>\n",
        "      <th> Trial type</th>\n",
        "      <th> Day</th>\n",
        "      <th> Water (mL)</th>\n",
        "      <th> Growth (cm)</th>\n",
        "      <th>newDay</th>\n",
        "    </tr>\n",
        "  </thead>\n",
        "  <tbody>\n",
        "    <tr>\n",
        "      <th>0</th>\n",
        "      <td>  clementine</td>\n",
        "      <td>  control</td>\n",
        "      <td> 1</td>\n",
        "      <td> 500</td>\n",
        "      <td> 1.2</td>\n",
        "      <td> 1</td>\n",
        "    </tr>\n",
        "    <tr>\n",
        "      <th>1</th>\n",
        "      <td>      pothos</td>\n",
        "      <td>  control</td>\n",
        "      <td> 1</td>\n",
        "      <td> 500</td>\n",
        "      <td> 1.0</td>\n",
        "      <td> 1</td>\n",
        "    </tr>\n",
        "    <tr>\n",
        "      <th>2</th>\n",
        "      <td> snake plant</td>\n",
        "      <td>  control</td>\n",
        "      <td> 1</td>\n",
        "      <td> 500</td>\n",
        "      <td> 0.9</td>\n",
        "      <td> 1</td>\n",
        "    </tr>\n",
        "    <tr>\n",
        "      <th>3</th>\n",
        "      <td>  clementine</td>\n",
        "      <td>  control</td>\n",
        "      <td> 2</td>\n",
        "      <td> 500</td>\n",
        "      <td> 1.2</td>\n",
        "      <td> 1</td>\n",
        "    </tr>\n",
        "    <tr>\n",
        "      <th>4</th>\n",
        "      <td>      pothos</td>\n",
        "      <td>  control</td>\n",
        "      <td> 2</td>\n",
        "      <td> 500</td>\n",
        "      <td> 1.0</td>\n",
        "      <td> 1</td>\n",
        "    </tr>\n",
        "  </tbody>\n",
        "</table>\n",
        "</div>"
       ],
       "output_type": "pyout",
       "prompt_number": 46,
       "text": [
        "          Name  Trial type   Day   Water (mL)   Growth (cm)  newDay\n",
        "0   clementine     control     1          500           1.2       1\n",
        "1       pothos     control     1          500           1.0       1\n",
        "2  snake plant     control     1          500           0.9       1\n",
        "3   clementine     control     2          500           1.2       1\n",
        "4       pothos     control     2          500           1.0       1"
       ]
      }
     ],
     "prompt_number": 46
    },
    {
     "cell_type": "code",
     "collapsed": false,
     "input": [
      "data_frame[data_frame['Trial type'] == 'control']"
     ],
     "language": "python",
     "metadata": {},
     "outputs": [
      {
       "output_type": "pyout",
       "prompt_number": 53,
       "text": [
        "0    True\n",
        "1    True\n",
        "2    True\n",
        "3    True\n",
        "4    True\n",
        "5    True\n",
        "6    True\n",
        "7    True\n",
        "8    True\n",
        "Name:  Trial type, dtype: bool"
       ]
      }
     ],
     "prompt_number": 53
    },
    {
     "cell_type": "code",
     "collapsed": false,
     "input": [
      "data_frame[data_frame['Name'] == 'clementine']"
     ],
     "language": "python",
     "metadata": {},
     "outputs": [
      {
       "html": [
        "<div style=\"max-height:1000px;max-width:1500px;overflow:auto;\">\n",
        "<table border=\"1\" class=\"dataframe\">\n",
        "  <thead>\n",
        "    <tr style=\"text-align: right;\">\n",
        "      <th></th>\n",
        "      <th>Name</th>\n",
        "      <th> Trial type</th>\n",
        "      <th> Day</th>\n",
        "      <th> Water (mL)</th>\n",
        "      <th> Growth (cm)</th>\n",
        "      <th>newDay</th>\n",
        "    </tr>\n",
        "  </thead>\n",
        "  <tbody>\n",
        "    <tr>\n",
        "      <th>0</th>\n",
        "      <td> clementine</td>\n",
        "      <td>  control</td>\n",
        "      <td> 1</td>\n",
        "      <td> 500</td>\n",
        "      <td> 1.2</td>\n",
        "      <td> 1</td>\n",
        "    </tr>\n",
        "    <tr>\n",
        "      <th>3</th>\n",
        "      <td> clementine</td>\n",
        "      <td>  control</td>\n",
        "      <td> 2</td>\n",
        "      <td> 500</td>\n",
        "      <td> 1.2</td>\n",
        "      <td> 1</td>\n",
        "    </tr>\n",
        "    <tr>\n",
        "      <th>6</th>\n",
        "      <td> clementine</td>\n",
        "      <td>  control</td>\n",
        "      <td> 3</td>\n",
        "      <td> 500</td>\n",
        "      <td> 1.2</td>\n",
        "      <td> 1</td>\n",
        "    </tr>\n",
        "  </tbody>\n",
        "</table>\n",
        "</div>"
       ],
       "output_type": "pyout",
       "prompt_number": 23,
       "text": [
        "         Name  Trial type   Day   Water (mL)   Growth (cm)  newDay\n",
        "0  clementine     control     1          500           1.2       1\n",
        "3  clementine     control     2          500           1.2       1\n",
        "6  clementine     control     3          500           1.2       1"
       ]
      }
     ],
     "prompt_number": 23
    },
    {
     "cell_type": "markdown",
     "metadata": {},
     "source": [
      "Exercise 2: Compute the average growth of the clementine plant"
     ]
    },
    {
     "cell_type": "code",
     "collapsed": false,
     "input": [
      "# Type your answer here"
     ],
     "language": "python",
     "metadata": {},
     "outputs": []
    },
    {
     "cell_type": "markdown",
     "metadata": {},
     "source": [
      "Great! Now that we have a better understanding of pandas data frames, let's try to aggregate results from each of our trial groups. Remember, we have a 'control' group, a 'more water' group, and a 'less water' group. "
     ]
    },
    {
     "cell_type": "markdown",
     "metadata": {},
     "source": [
      "For this, we'll need to import the os module, since we'll have to find the right csvs in the filesystem."
     ]
    },
    {
     "cell_type": "code",
     "collapsed": false,
     "input": [
      "import os\n",
      "help(os.walk)\n"
     ],
     "language": "python",
     "metadata": {},
     "outputs": [
      {
       "output_type": "stream",
       "stream": "stdout",
       "text": [
        "Help on function walk in module os:\n",
        "\n",
        "walk(top, topdown=True, onerror=None, followlinks=False)\n",
        "    Directory tree generator.\n",
        "    \n",
        "    For each directory in the directory tree rooted at top (including top\n",
        "    itself, but excluding '.' and '..'), yields a 3-tuple\n",
        "    \n",
        "        dirpath, dirnames, filenames\n",
        "    \n",
        "    dirpath is a string, the path to the directory.  dirnames is a list of\n",
        "    the names of the subdirectories in dirpath (excluding '.' and '..').\n",
        "    filenames is a list of the names of the non-directory files in dirpath.\n",
        "    Note that the names in the lists are just names, with no path components.\n",
        "    To get a full path (which begins with top) to a file or directory in\n",
        "    dirpath, do os.path.join(dirpath, name).\n",
        "    \n",
        "    If optional arg 'topdown' is true or not specified, the triple for a\n",
        "    directory is generated before the triples for any of its subdirectories\n",
        "    (directories are generated top down).  If topdown is false, the triple\n",
        "    for a directory is generated after the triples for all of its\n",
        "    subdirectories (directories are generated bottom up).\n",
        "    \n",
        "    When topdown is true, the caller can modify the dirnames list in-place\n",
        "    (e.g., via del or slice assignment), and walk will only recurse into the\n",
        "    subdirectories whose names remain in dirnames; this can be used to prune\n",
        "    the search, or to impose a specific order of visiting.  Modifying\n",
        "    dirnames when topdown is false is ineffective, since the directories in\n",
        "    dirnames have already been generated by the time dirnames itself is\n",
        "    generated.\n",
        "    \n",
        "    By default errors from the os.listdir() call are ignored.  If\n",
        "    optional arg 'onerror' is specified, it should be a function; it\n",
        "    will be called with one argument, an os.error instance.  It can\n",
        "    report the error to continue with the walk, or raise the exception\n",
        "    to abort the walk.  Note that the filename is available as the\n",
        "    filename attribute of the exception object.\n",
        "    \n",
        "    By default, os.walk does not follow symbolic links to subdirectories on\n",
        "    systems that support them.  In order to get this functionality, set the\n",
        "    optional argument 'followlinks' to true.\n",
        "    \n",
        "    Caution:  if you pass a relative pathname for top, don't change the\n",
        "    current working directory between resumptions of walk.  walk never\n",
        "    changes the current directory, and assumes that the client doesn't\n",
        "    either.\n",
        "    \n",
        "    Example:\n",
        "    \n",
        "    import os\n",
        "    from os.path import join, getsize\n",
        "    for root, dirs, files in os.walk('python/Lib/email'):\n",
        "        print root, \"consumes\",\n",
        "        print sum([getsize(join(root, name)) for name in files]),\n",
        "        print \"bytes in\", len(files), \"non-directory files\"\n",
        "        if 'CVS' in dirs:\n",
        "            dirs.remove('CVS')  # don't visit CVS directories\n",
        "\n"
       ]
      }
     ],
     "prompt_number": 1
    },
    {
     "cell_type": "markdown",
     "metadata": {},
     "source": [
      "Let's try the example they've given us here in the documentation to see how this method works."
     ]
    },
    {
     "cell_type": "code",
     "collapsed": false,
     "input": [
      "os."
     ],
     "language": "python",
     "metadata": {},
     "outputs": []
    },
    {
     "cell_type": "code",
     "collapsed": false,
     "input": [
      "from os.path import join, getsize\n",
      "for root, dirs, files in os.walk('.'):\n",
      "    print root, \"consumes\",\n",
      "    print sum([getsize(join(root, name)) for name in files]),\n",
      "    print \"bytes in\", len(files), \"non-directory files\"\n",
      "    if 'CVS' in dirs:\n",
      "        dirs.remove('CVS')  # don't visit CVS directories"
     ],
     "language": "python",
     "metadata": {},
     "outputs": [
      {
       "output_type": "stream",
       "stream": "stdout",
       "text": [
        ". consumes 73605 bytes in 4 non-directory files\n",
        "./.ipynb_checkpoints consumes 46117 bytes in 1 non-directory files\n",
        "./06_01_2013 consumes 0.0 bytes in 0 non-directory files\n",
        "./06_01_2013/control consumes 1365 bytes in 7 non-directory files\n",
        "./06_01_2013/less-water consumes 1316 bytes in 7 non-directory files\n",
        "./06_01_2013/more-water consumes 1386 bytes in 7 non-directory files\n",
        "./sample-files consumes 590 bytes in 2 non-directory files\n"
       ]
      }
     ],
     "prompt_number": 2
    },
    {
     "cell_type": "markdown",
     "metadata": {},
     "source": [
      "Exercise 3: Print out every csv file in the current directory, excluding our sample csv file"
     ]
    },
    {
     "cell_type": "code",
     "collapsed": false,
     "input": [
      "# Type your answer here. Make sure tofrom os.path import join, getsize\n",
      "for root, dirs, files in os.walk('.'):\n",
      "    for d in dirs:\n",
      "        print d\n"
     ],
     "language": "python",
     "metadata": {},
     "outputs": [
      {
       "ename": "AttributeError",
       "evalue": "'list' object has no attribute 'startswith'",
       "output_type": "pyerr",
       "traceback": [
        "\u001b[0;31m---------------------------------------------------------------------------\u001b[0m\n\u001b[0;31mAttributeError\u001b[0m                            Traceback (most recent call last)",
        "\u001b[0;32m<ipython-input-14-b552c5bb6bc4>\u001b[0m in \u001b[0;36m<module>\u001b[0;34m()\u001b[0m\n\u001b[1;32m      3\u001b[0m     \u001b[0;32mfor\u001b[0m \u001b[0mf\u001b[0m \u001b[0;32min\u001b[0m \u001b[0mfiles\u001b[0m\u001b[0;34m:\u001b[0m\u001b[0;34m\u001b[0m\u001b[0m\n\u001b[1;32m      4\u001b[0m         \u001b[0;32mif\u001b[0m \u001b[0;34m'.csv'\u001b[0m \u001b[0;32min\u001b[0m \u001b[0mf\u001b[0m\u001b[0;34m:\u001b[0m\u001b[0;34m\u001b[0m\u001b[0m\n\u001b[0;32m----> 5\u001b[0;31m             \u001b[0;32mprint\u001b[0m \u001b[0mjoin\u001b[0m\u001b[0;34m(\u001b[0m\u001b[0mroot\u001b[0m\u001b[0;34m,\u001b[0m\u001b[0mdirs\u001b[0m\u001b[0;34m)\u001b[0m\u001b[0;34m\u001b[0m\u001b[0m\n\u001b[0m",
        "\u001b[0;32m/Users/tony/anaconda/python.app/Contents/lib/python2.7/posixpath.pyc\u001b[0m in \u001b[0;36mjoin\u001b[0;34m(a, *p)\u001b[0m\n\u001b[1;32m     73\u001b[0m     \u001b[0mpath\u001b[0m \u001b[0;34m=\u001b[0m \u001b[0ma\u001b[0m\u001b[0;34m\u001b[0m\u001b[0m\n\u001b[1;32m     74\u001b[0m     \u001b[0;32mfor\u001b[0m \u001b[0mb\u001b[0m \u001b[0;32min\u001b[0m \u001b[0mp\u001b[0m\u001b[0;34m:\u001b[0m\u001b[0;34m\u001b[0m\u001b[0m\n\u001b[0;32m---> 75\u001b[0;31m         \u001b[0;32mif\u001b[0m \u001b[0mb\u001b[0m\u001b[0;34m.\u001b[0m\u001b[0mstartswith\u001b[0m\u001b[0;34m(\u001b[0m\u001b[0;34m'/'\u001b[0m\u001b[0;34m)\u001b[0m\u001b[0;34m:\u001b[0m\u001b[0;34m\u001b[0m\u001b[0m\n\u001b[0m\u001b[1;32m     76\u001b[0m             \u001b[0mpath\u001b[0m \u001b[0;34m=\u001b[0m \u001b[0mb\u001b[0m\u001b[0;34m\u001b[0m\u001b[0m\n\u001b[1;32m     77\u001b[0m         \u001b[0;32melif\u001b[0m \u001b[0mpath\u001b[0m \u001b[0;34m==\u001b[0m \u001b[0;34m''\u001b[0m \u001b[0;32mor\u001b[0m \u001b[0mpath\u001b[0m\u001b[0;34m.\u001b[0m\u001b[0mendswith\u001b[0m\u001b[0;34m(\u001b[0m\u001b[0;34m'/'\u001b[0m\u001b[0;34m)\u001b[0m\u001b[0;34m:\u001b[0m\u001b[0;34m\u001b[0m\u001b[0m\n",
        "\u001b[0;31mAttributeError\u001b[0m: 'list' object has no attribute 'startswith'"
       ]
      }
     ],
     "prompt_number": 14
    },
    {
     "cell_type": "markdown",
     "metadata": {},
     "source": [
      "Great! Now lets read all of those csvs into python, and aggregate them into one big data structure. First, let's start by combining two of the csv files."
     ]
    },
    {
     "cell_type": "code",
     "collapsed": false,
     "input": [
      "csv1 = csv.read_file(csv_files[0])\n",
      "csv2 = csv.read_file(csv_files[1])"
     ],
     "language": "python",
     "metadata": {},
     "outputs": []
    },
    {
     "cell_type": "code",
     "collapsed": false,
     "input": [
      "csv1['Day'] = [1] * len(csv1)\n",
      "csv1"
     ],
     "language": "python",
     "metadata": {},
     "outputs": [
      {
       "html": [
        "<div style=\"max-height:1000px;max-width:1500px;overflow:auto;\">\n",
        "<table border=\"1\" class=\"dataframe\">\n",
        "  <thead>\n",
        "    <tr style=\"text-align: right;\">\n",
        "      <th></th>\n",
        "      <th>Name</th>\n",
        "      <th> Trial type</th>\n",
        "      <th> Day</th>\n",
        "      <th> Water (mL)</th>\n",
        "      <th> Growth (cm)</th>\n",
        "      <th>newDay</th>\n",
        "    </tr>\n",
        "  </thead>\n",
        "  <tbody>\n",
        "    <tr>\n",
        "      <th>0</th>\n",
        "      <td>  clementine</td>\n",
        "      <td>  control</td>\n",
        "      <td> 1</td>\n",
        "      <td> 500</td>\n",
        "      <td> 1.2</td>\n",
        "      <td> 1</td>\n",
        "    </tr>\n",
        "    <tr>\n",
        "      <th>1</th>\n",
        "      <td>      pothos</td>\n",
        "      <td>  control</td>\n",
        "      <td> 1</td>\n",
        "      <td> 500</td>\n",
        "      <td> 1.0</td>\n",
        "      <td> 1</td>\n",
        "    </tr>\n",
        "    <tr>\n",
        "      <th>2</th>\n",
        "      <td> snake plant</td>\n",
        "      <td>  control</td>\n",
        "      <td> 1</td>\n",
        "      <td> 500</td>\n",
        "      <td> 0.9</td>\n",
        "      <td> 1</td>\n",
        "    </tr>\n",
        "    <tr>\n",
        "      <th>3</th>\n",
        "      <td>  clementine</td>\n",
        "      <td>  control</td>\n",
        "      <td> 2</td>\n",
        "      <td> 500</td>\n",
        "      <td> 1.2</td>\n",
        "      <td> 1</td>\n",
        "    </tr>\n",
        "    <tr>\n",
        "      <th>4</th>\n",
        "      <td>      pothos</td>\n",
        "      <td>  control</td>\n",
        "      <td> 2</td>\n",
        "      <td> 500</td>\n",
        "      <td> 1.0</td>\n",
        "      <td> 1</td>\n",
        "    </tr>\n",
        "    <tr>\n",
        "      <th>5</th>\n",
        "      <td> snake plant</td>\n",
        "      <td>  control</td>\n",
        "      <td> 2</td>\n",
        "      <td> 500</td>\n",
        "      <td> 0.9</td>\n",
        "      <td> 1</td>\n",
        "    </tr>\n",
        "    <tr>\n",
        "      <th>6</th>\n",
        "      <td>  clementine</td>\n",
        "      <td>  control</td>\n",
        "      <td> 3</td>\n",
        "      <td> 500</td>\n",
        "      <td> 1.2</td>\n",
        "      <td> 1</td>\n",
        "    </tr>\n",
        "    <tr>\n",
        "      <th>7</th>\n",
        "      <td>      pothos</td>\n",
        "      <td>  control</td>\n",
        "      <td> 3</td>\n",
        "      <td> 500</td>\n",
        "      <td> 1.0</td>\n",
        "      <td> 1</td>\n",
        "    </tr>\n",
        "    <tr>\n",
        "      <th>8</th>\n",
        "      <td> snake plant</td>\n",
        "      <td>  control</td>\n",
        "      <td> 3</td>\n",
        "      <td> 500</td>\n",
        "      <td> 0.9</td>\n",
        "      <td> 1</td>\n",
        "    </tr>\n",
        "  </tbody>\n",
        "</table>\n",
        "</div>"
       ],
       "output_type": "pyout",
       "prompt_number": 11,
       "text": [
        "          Name  Trial type   Day   Water (mL)   Growth (cm)  newDay\n",
        "0   clementine     control     1          500           1.2       1\n",
        "1       pothos     control     1          500           1.0       1\n",
        "2  snake plant     control     1          500           0.9       1\n",
        "3   clementine     control     2          500           1.2       1\n",
        "4       pothos     control     2          500           1.0       1\n",
        "5  snake plant     control     2          500           0.9       1\n",
        "6   clementine     control     3          500           1.2       1\n",
        "7       pothos     control     3          500           1.0       1\n",
        "8  snake plant     control     3          500           0.9       1"
       ]
      }
     ],
     "prompt_number": 11
    },
    {
     "cell_type": "code",
     "collapsed": false,
     "input": [
      "csv2['Day'] = [2] * len(csv2)\n",
      "csv2"
     ],
     "language": "python",
     "metadata": {},
     "outputs": [
      {
       "output_type": "pyout",
       "prompt_number": 10,
       "text": [
        "[1, 1, 1, 1, 1, 1, 1, 1, 1]"
       ]
      }
     ],
     "prompt_number": 10
    },
    {
     "cell_type": "code",
     "collapsed": false,
     "input": [
      "combined = concat([csv1, csv2])\n",
      "combined"
     ],
     "language": "python",
     "metadata": {},
     "outputs": [
      {
       "html": [
        "<div style=\"max-height:1000px;max-width:1500px;overflow:auto;\">\n",
        "<table border=\"1\" class=\"dataframe\">\n",
        "  <thead>\n",
        "    <tr style=\"text-align: right;\">\n",
        "      <th></th>\n",
        "      <th>Name</th>\n",
        "      <th> Trial type</th>\n",
        "      <th> Day</th>\n",
        "      <th> Water (mL)</th>\n",
        "      <th> Growth (cm)</th>\n",
        "      <th>newDay</th>\n",
        "    </tr>\n",
        "  </thead>\n",
        "  <tbody>\n",
        "    <tr>\n",
        "      <th>0</th>\n",
        "      <td>  clementine</td>\n",
        "      <td>  control</td>\n",
        "      <td> 1</td>\n",
        "      <td> 500</td>\n",
        "      <td> 1.2</td>\n",
        "      <td> 1</td>\n",
        "    </tr>\n",
        "    <tr>\n",
        "      <th>1</th>\n",
        "      <td>      pothos</td>\n",
        "      <td>  control</td>\n",
        "      <td> 1</td>\n",
        "      <td> 500</td>\n",
        "      <td> 1.0</td>\n",
        "      <td> 1</td>\n",
        "    </tr>\n",
        "    <tr>\n",
        "      <th>2</th>\n",
        "      <td> snake plant</td>\n",
        "      <td>  control</td>\n",
        "      <td> 1</td>\n",
        "      <td> 500</td>\n",
        "      <td> 0.9</td>\n",
        "      <td> 1</td>\n",
        "    </tr>\n",
        "    <tr>\n",
        "      <th>3</th>\n",
        "      <td>  clementine</td>\n",
        "      <td>  control</td>\n",
        "      <td> 2</td>\n",
        "      <td> 500</td>\n",
        "      <td> 1.2</td>\n",
        "      <td> 1</td>\n",
        "    </tr>\n",
        "    <tr>\n",
        "      <th>4</th>\n",
        "      <td>      pothos</td>\n",
        "      <td>  control</td>\n",
        "      <td> 2</td>\n",
        "      <td> 500</td>\n",
        "      <td> 1.0</td>\n",
        "      <td> 1</td>\n",
        "    </tr>\n",
        "    <tr>\n",
        "      <th>5</th>\n",
        "      <td> snake plant</td>\n",
        "      <td>  control</td>\n",
        "      <td> 2</td>\n",
        "      <td> 500</td>\n",
        "      <td> 0.9</td>\n",
        "      <td> 1</td>\n",
        "    </tr>\n",
        "    <tr>\n",
        "      <th>6</th>\n",
        "      <td>  clementine</td>\n",
        "      <td>  control</td>\n",
        "      <td> 3</td>\n",
        "      <td> 500</td>\n",
        "      <td> 1.2</td>\n",
        "      <td> 1</td>\n",
        "    </tr>\n",
        "    <tr>\n",
        "      <th>7</th>\n",
        "      <td>      pothos</td>\n",
        "      <td>  control</td>\n",
        "      <td> 3</td>\n",
        "      <td> 500</td>\n",
        "      <td> 1.0</td>\n",
        "      <td> 1</td>\n",
        "    </tr>\n",
        "    <tr>\n",
        "      <th>8</th>\n",
        "      <td> snake plant</td>\n",
        "      <td>  control</td>\n",
        "      <td> 3</td>\n",
        "      <td> 500</td>\n",
        "      <td> 0.9</td>\n",
        "      <td> 1</td>\n",
        "    </tr>\n",
        "  </tbody>\n",
        "</table>\n",
        "</div>"
       ],
       "output_type": "pyout",
       "prompt_number": 22,
       "text": [
        "          Name  Trial type   Day   Water (mL)   Growth (cm)  newDay\n",
        "0   clementine     control     1          500           1.2       1\n",
        "1       pothos     control     1          500           1.0       1\n",
        "2  snake plant     control     1          500           0.9       1\n",
        "3   clementine     control     2          500           1.2       1\n",
        "4       pothos     control     2          500           1.0       1\n",
        "5  snake plant     control     2          500           0.9       1\n",
        "6   clementine     control     3          500           1.2       1\n",
        "7       pothos     control     3          500           1.0       1\n",
        "8  snake plant     control     3          500           0.9       1"
       ]
      }
     ],
     "prompt_number": 22
    },
    {
     "cell_type": "markdown",
     "metadata": {},
     "source": [
      "Final Exercise: Take your list of csv files and combine them appropriately into one big data frame"
     ]
    },
    {
     "cell_type": "code",
     "collapsed": false,
     "input": [
      "# Your code here"
     ],
     "language": "python",
     "metadata": {},
     "outputs": []
    }
   ],
   "metadata": {}
  }
 ]
}