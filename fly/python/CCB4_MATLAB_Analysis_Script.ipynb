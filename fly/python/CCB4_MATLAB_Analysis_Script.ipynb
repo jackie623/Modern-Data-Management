{
 "metadata": {
  "name": ""
 },
 "nbformat": 3,
 "nbformat_minor": 0,
 "worksheets": [
  {
   "cells": [
    {
     "cell_type": "markdown",
     "metadata": {},
     "source": [
      "# Data Management in Python\n",
      "Copyright (c) 2014, Anthony Azevedo\n",
      "\n",
      "## Introduction\n",
      "This script will explore electrophyiological recordings of cells in the auditory pathway of \"the fly\", *Drosophila melanogaster*. Such recordings will involve a stimulus - mechanical or electrical - and an electrical response of the cell. The responses are measured using a glass pipette filled with a saline solution that is connected by a silver chloride wire to a sensitive patch clamp amplifier. Mechanical stimuli are delivered using a piezoelectric actuator that will push on the fly's antenna.\n",
      "\n",
      "First, we will inspect the data managment scheme, how the raw_data is stored and organized when it is recorded.\n",
      "\n",
      "Then we will inspect some of these data individually.\n",
      "\n",
      "Finally, we will pose an anlysis question and follow a routine to answer the question according to the following steps: (1) find data that are relevant to the question (2) import the data (3) perform operations on the data (4) display the results.\n"
     ]
    },
    {
     "cell_type": "markdown",
     "metadata": {},
     "source": [
      "## Naming conventions and data management\n",
      "Raw data is stored in this repository on my mac machine at\n",
      "\n",
      "    `/Users/tony/Code/Modern-Data-Management/raw_data`\n",
      "\n",
      "and on my pc workstation at \n",
      "\n",
      "    `C:\\Users\\Anthony Azevedo\\Code\\Modern-Data-Management`\n",
      "\n",
      "The `os.path.join` function creates a string for the path to a directory."
     ]
    },
    {
     "cell_type": "code",
     "collapsed": false,
     "input": [
      "import os\n",
      "raw_data_directory = os.path.join(os.curdir, '..', 'raw_data')"
     ],
     "language": "python",
     "metadata": {},
     "outputs": [],
     "prompt_number": 9
    },
    {
     "cell_type": "markdown",
     "metadata": {},
     "source": [
      "## Data organization\n",
      "\n",
      "A typical experiment procedes as follows: \n",
      "\n",
      "1. \"mount\" a fly in a holder, i.e. put the fly into a piece of aluminum\n",
      "foil that will hold it in position on the microscope, and glue it in\n",
      "place. \n",
      "2. Dissect the fly's cuticle (head) to expose the brain, place the\n",
      "holder on the microscope. \n",
      "3. Visualize the cell and patch the neuron of interest.\n",
      "4. Deliver stimuli of various sorts.\n",
      "5. If the preparation (prep) is still ok after the first cell, go on to\n",
      "another cell in the same prep.\n",
      "\n",
      "Accordingly, I have decided to store raw data in the following way:\n",
      "\n",
      "* Within the top level raw_data directory\n",
      "* Within a direcotory that refers to the day (YYMMDD) on which I\n",
      "performed the recordings\n",
      "* In a directory for Each cell that I record with the naming\n",
      "convention YYMMDD_FX_CY. \n",
      "\n",
      "So, we have a structure like:\n",
      "\n",
      "`    raw_data/YYMMDD/YYMMDD_FX_CY`\n",
      "\n",
      "This choice was influenced by conventions already in place in the lab.  I\n",
      "could have chosen to store each cell in the raw_data folder, but I\n",
      "didn't.  "
     ]
    },
    {
     "cell_type": "raw",
     "metadata": {},
     "source": [
      "Look at the contents of the cell directory 131126_F2_C1"
     ]
    },
    {
     "cell_type": "code",
     "collapsed": false,
     "input": [
      "experimentdate = '131126';\n",
      "flynumber = '2';\n",
      "cellnumber = '1';\n",
      "\n",
      "cell_identifier = '{date}_F{fly}_C{cell}'.format(date=experimentdate, fly=flynumber, cell=cellnumber)\n",
      "\n",
      "cell_directory = os.path.join(raw_data_directory,experimentdate, cell_identifier)\n",
      "print(cell_directory)"
     ],
     "language": "python",
     "metadata": {},
     "outputs": [
      {
       "output_type": "stream",
       "stream": "stdout",
       "text": [
        "./../raw_data/131126/131126_F2_C1\n"
       ]
      }
     ],
     "prompt_number": 17
    },
    {
     "cell_type": "code",
     "collapsed": false,
     "input": [
      "# list the contents\n",
      "os.listdir(cell_directory)"
     ],
     "language": "python",
     "metadata": {},
     "outputs": [
      {
       "metadata": {},
       "output_type": "pyout",
       "prompt_number": 18,
       "text": [
        "['Acquisition_131126_F2_C1.mat',\n",
        " 'BasicEPhysRig_131126_F2_C1.mat',\n",
        " 'CurrentSine_Raw_131126_F2_C1_1.mat',\n",
        " 'CurrentSine_Raw_131126_F2_C1_10.mat',\n",
        " 'CurrentSine_Raw_131126_F2_C1_11.mat',\n",
        " 'CurrentSine_Raw_131126_F2_C1_12.mat',\n",
        " 'CurrentSine_Raw_131126_F2_C1_13.mat',\n",
        " 'CurrentSine_Raw_131126_F2_C1_14.mat',\n",
        " 'CurrentSine_Raw_131126_F2_C1_15.mat',\n",
        " 'CurrentSine_Raw_131126_F2_C1_16.mat',\n",
        " 'CurrentSine_Raw_131126_F2_C1_17.mat',\n",
        " 'CurrentSine_Raw_131126_F2_C1_18.mat',\n",
        " 'CurrentSine_Raw_131126_F2_C1_19.mat',\n",
        " 'CurrentSine_Raw_131126_F2_C1_2.mat',\n",
        " 'CurrentSine_Raw_131126_F2_C1_20.mat',\n",
        " 'CurrentSine_Raw_131126_F2_C1_21.mat',\n",
        " 'CurrentSine_Raw_131126_F2_C1_22.mat',\n",
        " 'CurrentSine_Raw_131126_F2_C1_23.mat',\n",
        " 'CurrentSine_Raw_131126_F2_C1_24.mat',\n",
        " 'CurrentSine_Raw_131126_F2_C1_25.mat',\n",
        " 'CurrentSine_Raw_131126_F2_C1_3.mat',\n",
        " 'CurrentSine_Raw_131126_F2_C1_4.mat',\n",
        " 'CurrentSine_Raw_131126_F2_C1_5.mat',\n",
        " 'CurrentSine_Raw_131126_F2_C1_6.mat',\n",
        " 'CurrentSine_Raw_131126_F2_C1_7.mat',\n",
        " 'CurrentSine_Raw_131126_F2_C1_8.mat',\n",
        " 'CurrentSine_Raw_131126_F2_C1_9.mat',\n",
        " 'CurrentStep_Raw_131126_F2_C1_1.mat',\n",
        " 'CurrentStep_Raw_131126_F2_C1_2.mat',\n",
        " 'CurrentStep_Raw_131126_F2_C1_3.mat',\n",
        " 'CurrentStep_Raw_131126_F2_C1_4.mat',\n",
        " 'CurrentStep_Raw_131126_F2_C1_5.mat',\n",
        " 'fourier_demo2.m',\n",
        " 'notes_131126_F2_C1.txt',\n",
        " 'PiezoCourtshipSong_Raw_131126_F2_C1_1.mat',\n",
        " 'PiezoCourtshipSong_Raw_131126_F2_C1_2.mat',\n",
        " 'PiezoCourtshipSong_Raw_131126_F2_C1_3.mat',\n",
        " 'PiezoCourtshipSong_Raw_131126_F2_C1_4.mat',\n",
        " 'PiezoCourtshipSong_Raw_131126_F2_C1_5.mat',\n",
        " 'PiezoCourtshipSong_Raw_131126_F2_C1_6.mat',\n",
        " 'PiezoRig_131126_F2_C1.mat',\n",
        " 'PiezoSine_Raw_131126_F2_C1_1.mat',\n",
        " 'PiezoSine_Raw_131126_F2_C1_10.mat',\n",
        " 'PiezoSine_Raw_131126_F2_C1_11.mat',\n",
        " 'PiezoSine_Raw_131126_F2_C1_12.mat',\n",
        " 'PiezoSine_Raw_131126_F2_C1_13.mat',\n",
        " 'PiezoSine_Raw_131126_F2_C1_14.mat',\n",
        " 'PiezoSine_Raw_131126_F2_C1_15.mat',\n",
        " 'PiezoSine_Raw_131126_F2_C1_16.mat',\n",
        " 'PiezoSine_Raw_131126_F2_C1_17.mat',\n",
        " 'PiezoSine_Raw_131126_F2_C1_18.mat',\n",
        " 'PiezoSine_Raw_131126_F2_C1_19.mat',\n",
        " 'PiezoSine_Raw_131126_F2_C1_2.mat',\n",
        " 'PiezoSine_Raw_131126_F2_C1_20.mat',\n",
        " 'PiezoSine_Raw_131126_F2_C1_21.mat',\n",
        " 'PiezoSine_Raw_131126_F2_C1_22.mat',\n",
        " 'PiezoSine_Raw_131126_F2_C1_23.mat',\n",
        " 'PiezoSine_Raw_131126_F2_C1_24.mat',\n",
        " 'PiezoSine_Raw_131126_F2_C1_25.mat',\n",
        " 'PiezoSine_Raw_131126_F2_C1_26.mat',\n",
        " 'PiezoSine_Raw_131126_F2_C1_27.mat',\n",
        " 'PiezoSine_Raw_131126_F2_C1_28.mat',\n",
        " 'PiezoSine_Raw_131126_F2_C1_29.mat',\n",
        " 'PiezoSine_Raw_131126_F2_C1_3.mat',\n",
        " 'PiezoSine_Raw_131126_F2_C1_30.mat',\n",
        " 'PiezoSine_Raw_131126_F2_C1_31.mat',\n",
        " 'PiezoSine_Raw_131126_F2_C1_32.mat',\n",
        " 'PiezoSine_Raw_131126_F2_C1_33.mat',\n",
        " 'PiezoSine_Raw_131126_F2_C1_34.mat',\n",
        " 'PiezoSine_Raw_131126_F2_C1_35.mat',\n",
        " 'PiezoSine_Raw_131126_F2_C1_36.mat',\n",
        " 'PiezoSine_Raw_131126_F2_C1_37.mat',\n",
        " 'PiezoSine_Raw_131126_F2_C1_38.mat',\n",
        " 'PiezoSine_Raw_131126_F2_C1_39.mat',\n",
        " 'PiezoSine_Raw_131126_F2_C1_4.mat',\n",
        " 'PiezoSine_Raw_131126_F2_C1_40.mat',\n",
        " 'PiezoSine_Raw_131126_F2_C1_41.mat',\n",
        " 'PiezoSine_Raw_131126_F2_C1_42.mat',\n",
        " 'PiezoSine_Raw_131126_F2_C1_43.mat',\n",
        " 'PiezoSine_Raw_131126_F2_C1_44.mat',\n",
        " 'PiezoSine_Raw_131126_F2_C1_45.mat',\n",
        " 'PiezoSine_Raw_131126_F2_C1_5.mat',\n",
        " 'PiezoSine_Raw_131126_F2_C1_6.mat',\n",
        " 'PiezoSine_Raw_131126_F2_C1_7.mat',\n",
        " 'PiezoSine_Raw_131126_F2_C1_8.mat',\n",
        " 'PiezoSine_Raw_131126_F2_C1_9.mat',\n",
        " 'PiezoSquareWave_Raw_131126_F2_C1_1.mat',\n",
        " 'PiezoSquareWave_Raw_131126_F2_C1_2.mat',\n",
        " 'PiezoSquareWave_Raw_131126_F2_C1_3.mat',\n",
        " 'PiezoSquareWave_Raw_131126_F2_C1_4.mat',\n",
        " 'PiezoSquareWave_Raw_131126_F2_C1_5.mat',\n",
        " 'PiezoStep_Raw_131126_F2_C1_1.mat',\n",
        " 'PiezoStep_Raw_131126_F2_C1_10.mat',\n",
        " 'PiezoStep_Raw_131126_F2_C1_11.mat',\n",
        " 'PiezoStep_Raw_131126_F2_C1_12.mat',\n",
        " 'PiezoStep_Raw_131126_F2_C1_13.mat',\n",
        " 'PiezoStep_Raw_131126_F2_C1_14.mat',\n",
        " 'PiezoStep_Raw_131126_F2_C1_15.mat',\n",
        " 'PiezoStep_Raw_131126_F2_C1_16.mat',\n",
        " 'PiezoStep_Raw_131126_F2_C1_17.mat',\n",
        " 'PiezoStep_Raw_131126_F2_C1_18.mat',\n",
        " 'PiezoStep_Raw_131126_F2_C1_19.mat',\n",
        " 'PiezoStep_Raw_131126_F2_C1_2.mat',\n",
        " 'PiezoStep_Raw_131126_F2_C1_20.mat',\n",
        " 'PiezoStep_Raw_131126_F2_C1_21.mat',\n",
        " 'PiezoStep_Raw_131126_F2_C1_22.mat',\n",
        " 'PiezoStep_Raw_131126_F2_C1_23.mat',\n",
        " 'PiezoStep_Raw_131126_F2_C1_24.mat',\n",
        " 'PiezoStep_Raw_131126_F2_C1_25.mat',\n",
        " 'PiezoStep_Raw_131126_F2_C1_26.mat',\n",
        " 'PiezoStep_Raw_131126_F2_C1_27.mat',\n",
        " 'PiezoStep_Raw_131126_F2_C1_28.mat',\n",
        " 'PiezoStep_Raw_131126_F2_C1_29.mat',\n",
        " 'PiezoStep_Raw_131126_F2_C1_3.mat',\n",
        " 'PiezoStep_Raw_131126_F2_C1_30.mat',\n",
        " 'PiezoStep_Raw_131126_F2_C1_31.mat',\n",
        " 'PiezoStep_Raw_131126_F2_C1_32.mat',\n",
        " 'PiezoStep_Raw_131126_F2_C1_33.mat',\n",
        " 'PiezoStep_Raw_131126_F2_C1_34.mat',\n",
        " 'PiezoStep_Raw_131126_F2_C1_35.mat',\n",
        " 'PiezoStep_Raw_131126_F2_C1_36.mat',\n",
        " 'PiezoStep_Raw_131126_F2_C1_37.mat',\n",
        " 'PiezoStep_Raw_131126_F2_C1_38.mat',\n",
        " 'PiezoStep_Raw_131126_F2_C1_39.mat',\n",
        " 'PiezoStep_Raw_131126_F2_C1_4.mat',\n",
        " 'PiezoStep_Raw_131126_F2_C1_40.mat',\n",
        " 'PiezoStep_Raw_131126_F2_C1_41.mat',\n",
        " 'PiezoStep_Raw_131126_F2_C1_42.mat',\n",
        " 'PiezoStep_Raw_131126_F2_C1_43.mat',\n",
        " 'PiezoStep_Raw_131126_F2_C1_44.mat',\n",
        " 'PiezoStep_Raw_131126_F2_C1_45.mat',\n",
        " 'PiezoStep_Raw_131126_F2_C1_46.mat',\n",
        " 'PiezoStep_Raw_131126_F2_C1_47.mat',\n",
        " 'PiezoStep_Raw_131126_F2_C1_48.mat',\n",
        " 'PiezoStep_Raw_131126_F2_C1_49.mat',\n",
        " 'PiezoStep_Raw_131126_F2_C1_5.mat',\n",
        " 'PiezoStep_Raw_131126_F2_C1_50.mat',\n",
        " 'PiezoStep_Raw_131126_F2_C1_51.mat',\n",
        " 'PiezoStep_Raw_131126_F2_C1_52.mat',\n",
        " 'PiezoStep_Raw_131126_F2_C1_53.mat',\n",
        " 'PiezoStep_Raw_131126_F2_C1_54.mat',\n",
        " 'PiezoStep_Raw_131126_F2_C1_55.mat',\n",
        " 'PiezoStep_Raw_131126_F2_C1_56.mat',\n",
        " 'PiezoStep_Raw_131126_F2_C1_57.mat',\n",
        " 'PiezoStep_Raw_131126_F2_C1_58.mat',\n",
        " 'PiezoStep_Raw_131126_F2_C1_59.mat',\n",
        " 'PiezoStep_Raw_131126_F2_C1_6.mat',\n",
        " 'PiezoStep_Raw_131126_F2_C1_60.mat',\n",
        " 'PiezoStep_Raw_131126_F2_C1_61.mat',\n",
        " 'PiezoStep_Raw_131126_F2_C1_62.mat',\n",
        " 'PiezoStep_Raw_131126_F2_C1_63.mat',\n",
        " 'PiezoStep_Raw_131126_F2_C1_64.mat',\n",
        " 'PiezoStep_Raw_131126_F2_C1_65.mat',\n",
        " 'PiezoStep_Raw_131126_F2_C1_66.mat',\n",
        " 'PiezoStep_Raw_131126_F2_C1_67.mat',\n",
        " 'PiezoStep_Raw_131126_F2_C1_68.mat',\n",
        " 'PiezoStep_Raw_131126_F2_C1_69.mat',\n",
        " 'PiezoStep_Raw_131126_F2_C1_7.mat',\n",
        " 'PiezoStep_Raw_131126_F2_C1_70.mat',\n",
        " 'PiezoStep_Raw_131126_F2_C1_71.mat',\n",
        " 'PiezoStep_Raw_131126_F2_C1_72.mat',\n",
        " 'PiezoStep_Raw_131126_F2_C1_73.mat',\n",
        " 'PiezoStep_Raw_131126_F2_C1_74.mat',\n",
        " 'PiezoStep_Raw_131126_F2_C1_75.mat',\n",
        " 'PiezoStep_Raw_131126_F2_C1_76.mat',\n",
        " 'PiezoStep_Raw_131126_F2_C1_77.mat',\n",
        " 'PiezoStep_Raw_131126_F2_C1_78.mat',\n",
        " 'PiezoStep_Raw_131126_F2_C1_79.mat',\n",
        " 'PiezoStep_Raw_131126_F2_C1_8.mat',\n",
        " 'PiezoStep_Raw_131126_F2_C1_80.mat',\n",
        " 'PiezoStep_Raw_131126_F2_C1_81.mat',\n",
        " 'PiezoStep_Raw_131126_F2_C1_82.mat',\n",
        " 'PiezoStep_Raw_131126_F2_C1_83.mat',\n",
        " 'PiezoStep_Raw_131126_F2_C1_84.mat',\n",
        " 'PiezoStep_Raw_131126_F2_C1_85.mat',\n",
        " 'PiezoStep_Raw_131126_F2_C1_86.mat',\n",
        " 'PiezoStep_Raw_131126_F2_C1_87.mat',\n",
        " 'PiezoStep_Raw_131126_F2_C1_9.mat',\n",
        " 'SealAndLeak_Raw_131126_F2_C1_1.mat',\n",
        " 'Sweep_Raw_131126_F2_C1_1.mat',\n",
        " 'Sweep_Raw_131126_F2_C1_2.mat',\n",
        " 'Sweep_Raw_131126_F2_C1_3.mat',\n",
        " 'Sweep_Raw_131126_F2_C1_4.mat',\n",
        " 'Sweep_Raw_131126_F2_C1_5.mat',\n",
        " 'Sweep_Raw_131126_F2_C1_6.mat',\n",
        " 'Sweep_Raw_131126_F2_C1_7.mat',\n",
        " 'Sweep_Raw_131126_F2_C1_8.mat']"
       ]
      }
     ],
     "prompt_number": 18
    },
    {
     "cell_type": "markdown",
     "metadata": {},
     "source": [
      "You will see a list of \".mat\" files.  These are files of data that Matlab creates using the `save` function.  You can read these files using the `load` function, but we'll use the Scipy `scipy.io.loadmat` function."
     ]
    },
    {
     "cell_type": "code",
     "collapsed": false,
     "input": [
      "from scipy.io import loadmat\n",
      "from pprint import pprint"
     ],
     "language": "python",
     "metadata": {},
     "outputs": [],
     "prompt_number": 23
    },
    {
     "cell_type": "raw",
     "metadata": {},
     "source": [
      "Let's load a single trial as an example"
     ]
    },
    {
     "cell_type": "code",
     "collapsed": false,
     "input": [
      "def load(path):\n",
      "    return loadmat(path, \n",
      "            squeeze_me=True, # Squeeze single-dimension arrays\n",
      "            chars_as_strings=True) # Convert character arrays to strings\n",
      "\n",
      "t = load(os.path.join(cell_directory, 'PiezoSine_Raw_131126_F2_C1_3.mat'))\n",
      "pprint(t)"
     ],
     "language": "python",
     "metadata": {},
     "outputs": [
      {
       "output_type": "stream",
       "stream": "stdout",
       "text": [
        "{'__globals__': [],\n",
        " '__header__': 'MATLAB 5.0 MAT-file, Platform: PCWIN, Created on: Tue Nov 26 16:17:30 2013',\n",
        " '__version__': '1.0',\n",
        " 'current': array([-0.13050259, -0.13050259, -0.13050259, ..., -0.14365506,\n",
        "       -0.13050259, -0.15680754]),\n",
        " 'name': u'C:\\\\Users\\\\Anthony Azevedo\\\\Acquisition\\\\131126\\\\131126_F2_C1\\\\PiezoSine_Raw_131126_F2_C1_3.mat',\n",
        " 'params': array((0.4, 5, [0.1, 0.2, 0.4], 1.7, 25, [25, 50, 100, 200, 400], 5, u'IClamp', 1, 0.4, u'PiezoSine', 0.04, 50000, 50000, 5, 0.3, 0, 3, 9), \n",
        "      dtype=[('displacement', 'O'), ('displacementOffset', 'O'), ('displacements', 'O'), ('durSweep', 'O'), ('freq', 'O'), ('freqs', 'O'), ('gain', 'O'), ('mode', 'O'), ('postDurInSec', 'O'), ('preDurInSec', 'O'), ('protocol', 'O'), ('ramptime', 'O'), ('sampratein', 'O'), ('samprateout', 'O'), ('secondary_gain', 'O'), ('stimDurInSec', 'O'), ('Vm_id', 'O'), ('trial', 'O'), ('trialBlock', 'O')]),\n",
        " 'sgsmonitor': array([ 5.08149416,  5.05913483,  5.04302297, ...,  5.00849754,\n",
        "        5.00783992,  5.00816873]),\n",
        " 'tags': array([], dtype=float64),\n",
        " 'voltage': array([-37.50378557, -37.49063309, -37.51036181, ..., -35.42569306,\n",
        "       -35.40596433, -35.39281185])}\n"
       ]
      }
     ],
     "prompt_number": 197
    },
    {
     "cell_type": "markdown",
     "metadata": {},
     "source": [
      "## Naming conventions\n",
      "\n",
      "The naming conventions of the .mat files gives information about how these data were collected.\n",
      "\n",
      "The first part is the name of the stimulus protocol that was used to produce a stimulus, in this case \"PiezoSine\", or a sine wave mechanical stimulus delivered through the piezo electric actuator. I define a protocol as a collection of parameters used to construct the stimulus in the first place (at acquisition), and to reconstruct it post-hoc (during analysis).\n",
      "\n",
      "The \"Raw\" signifier indicates this is a single trial. Trials are the units of acquired data and represent a single presentation of a particular stimulus.\n",
      "\n",
      "Next comes the cell identifier.\n",
      "\n",
      "Finally, the last number is the protocol trial number (3 of 45 in this case)\n",
      "\n",
      "When we loaded the trial, several new variables were created in the workspace"
     ]
    },
    {
     "cell_type": "markdown",
     "metadata": {},
     "source": [
      "`name`: The path to the raw file on PC work station.  Original path is to a folder called Acquisition, where newly acquired data is stored. "
     ]
    },
    {
     "cell_type": "code",
     "collapsed": false,
     "input": [
      "pprint(t['name'])"
     ],
     "language": "python",
     "metadata": {},
     "outputs": [
      {
       "output_type": "stream",
       "stream": "stdout",
       "text": [
        "u'C:\\\\Users\\\\Anthony Azevedo\\\\Acquisition\\\\131126\\\\131126_F2_C1\\\\PiezoSine_Raw_131126_F2_C1_3.mat'\n"
       ]
      }
     ],
     "prompt_number": 33
    },
    {
     "cell_type": "markdown",
     "metadata": {},
     "source": [
      "A built-in data structure called a \"Matlab structure\" ( |help struct| ) which has \"fields\" (\"gain\",\"mode\", etc) and \"values\". You'll see how to use this below.\n"
     ]
    },
    {
     "cell_type": "code",
     "collapsed": false,
     "input": [
      "pprint(t['params'])"
     ],
     "language": "python",
     "metadata": {},
     "outputs": [
      {
       "output_type": "stream",
       "stream": "stdout",
       "text": [
        "array((0.4, 5, [0.1, 0.2, 0.4], 1.7, 25, [25, 50, 100, 200, 400], 5, u'IClamp', 1, 0.4, u'PiezoSine', 0.04, 50000, 50000, 5, 0.3, 0, 3, 9), \n",
        "      dtype=[('displacement', 'O'), ('displacementOffset', 'O'), ('displacements', 'O'), ('durSweep', 'O'), ('freq', 'O'), ('freqs', 'O'), ('gain', 'O'), ('mode', 'O'), ('postDurInSec', 'O'), ('preDurInSec', 'O'), ('protocol', 'O'), ('ramptime', 'O'), ('sampratein', 'O'), ('samprateout', 'O'), ('secondary_gain', 'O'), ('stimDurInSec', 'O'), ('Vm_id', 'O'), ('trial', 'O'), ('trialBlock', 'O')])\n"
       ]
      }
     ],
     "prompt_number": 35
    },
    {
     "cell_type": "code",
     "collapsed": false,
     "input": [
      "pprint(t['params']['gain'])"
     ],
     "language": "python",
     "metadata": {},
     "outputs": [
      {
       "output_type": "stream",
       "stream": "stdout",
       "text": [
        "array(5, dtype=object)\n"
       ]
      }
     ],
     "prompt_number": 37
    },
    {
     "cell_type": "markdown",
     "metadata": {},
     "source": [
      "A built-in \"cell array\" ( |help cell| ) called tags that will hold any information about this particular trial that I may have entered while acquiring (e.g. application of drugs, washout of drugs, etc)"
     ]
    },
    {
     "cell_type": "code",
     "collapsed": false,
     "input": [
      "t['tags']"
     ],
     "language": "python",
     "metadata": {},
     "outputs": [
      {
       "metadata": {},
       "output_type": "pyout",
       "prompt_number": 38,
       "text": [
        "array([], dtype=float64)"
       ]
      }
     ],
     "prompt_number": 38
    },
    {
     "cell_type": "markdown",
     "metadata": {},
     "source": [
      "The measurement of current over time (A large 1D array)"
     ]
    },
    {
     "cell_type": "code",
     "collapsed": false,
     "input": [
      "print(t['current'].shape)"
     ],
     "language": "python",
     "metadata": {},
     "outputs": [
      {
       "output_type": "stream",
       "stream": "stdout",
       "text": [
        "(85001,)\n"
       ]
      }
     ],
     "prompt_number": 40
    },
    {
     "cell_type": "code",
     "collapsed": false,
     "input": [
      "import matplotlib.pyplot as plt\n",
      "plt.plot(t['current'])"
     ],
     "language": "python",
     "metadata": {},
     "outputs": [
      {
       "metadata": {},
       "output_type": "pyout",
       "prompt_number": 42,
       "text": [
        "[<matplotlib.lines.Line2D at 0x1061f8d10>]"
       ]
      },
      {
       "metadata": {},
       "output_type": "display_data",
       "png": "[encoded data removed]",
       "text": [
        "<matplotlib.figure.Figure at 0x106261090>"
       ]
      }
     ],
     "prompt_number": 42
    },
    {
     "cell_type": "markdown",
     "metadata": {},
     "source": [
      "The measurement of voltage over time (A large 1D array)"
     ]
    },
    {
     "cell_type": "code",
     "collapsed": false,
     "input": [
      "plt.plot(t['voltage'])"
     ],
     "language": "python",
     "metadata": {},
     "outputs": [
      {
       "metadata": {},
       "output_type": "pyout",
       "prompt_number": 44,
       "text": [
        "[<matplotlib.lines.Line2D at 0x106479310>]"
       ]
      },
      {
       "metadata": {},
       "output_type": "display_data",
       "png": "[encoded data removed]",
       "text": [
        "<matplotlib.figure.Figure at 0x10637b790>"
       ]
      }
     ],
     "prompt_number": 44
    },
    {
     "cell_type": "markdown",
     "metadata": {},
     "source": [
      "## Stimulus\n",
      "The params structure will tell us how the stimulus and response were generated and collected. I created the acquisition system to use these numbers, and these are my choices of what to call these numbers. They are not universal vocabulary, just my preferences and design, but they represent standard quantities that such an acquisition system would need.\n"
     ]
    },
    {
     "cell_type": "code",
     "collapsed": false,
     "input": [
      "pprint(t['params'])"
     ],
     "language": "python",
     "metadata": {},
     "outputs": [
      {
       "output_type": "stream",
       "stream": "stdout",
       "text": [
        "array((0.4, 5, [0.1, 0.2, 0.4], 1.7, 25, [25, 50, 100, 200, 400], 5, u'IClamp', 1, 0.4, u'PiezoSine', 0.04, 50000, 50000, 5, 0.3, 0, 3, 9), \n",
        "      dtype=[('displacement', 'O'), ('displacementOffset', 'O'), ('displacements', 'O'), ('durSweep', 'O'), ('freq', 'O'), ('freqs', 'O'), ('gain', 'O'), ('mode', 'O'), ('postDurInSec', 'O'), ('preDurInSec', 'O'), ('protocol', 'O'), ('ramptime', 'O'), ('sampratein', 'O'), ('samprateout', 'O'), ('secondary_gain', 'O'), ('stimDurInSec', 'O'), ('Vm_id', 'O'), ('trial', 'O'), ('trialBlock', 'O')])\n"
       ]
      }
     ],
     "prompt_number": 46
    },
    {
     "cell_type": "markdown",
     "metadata": {},
     "source": [
      "\n",
      "The following parameters define how the stimulus evolves over time.\n",
      "\n",
      "The sampling rate of the stimulus command.  A digitial to analog\n",
      "converter will produce a continuous analog signal based on a digital\n",
      "command from the computer"
     ]
    },
    {
     "cell_type": "code",
     "collapsed": false,
     "input": [
      "import numpy as np\n",
      "params = t['params']\n",
      "params['samprateout']"
     ],
     "language": "python",
     "metadata": {},
     "outputs": [
      {
       "metadata": {},
       "output_type": "pyout",
       "prompt_number": 49,
       "text": [
        "array(50000, dtype=object)"
       ]
      }
     ],
     "prompt_number": 49
    },
    {
     "cell_type": "markdown",
     "metadata": {},
     "source": [
      "Seconds before the stimulus actually starts"
     ]
    },
    {
     "cell_type": "code",
     "collapsed": false,
     "input": [
      "params['preDurInSec']"
     ],
     "language": "python",
     "metadata": {},
     "outputs": [
      {
       "metadata": {},
       "output_type": "pyout",
       "prompt_number": 51,
       "text": [
        "array(0.4, dtype=object)"
       ]
      }
     ],
     "prompt_number": 51
    },
    {
     "cell_type": "raw",
     "metadata": {},
     "source": [
      "Seconds that the stimulus will be presented"
     ]
    },
    {
     "cell_type": "code",
     "collapsed": false,
     "input": [
      "params['stimDurInSec']"
     ],
     "language": "python",
     "metadata": {},
     "outputs": [
      {
       "metadata": {},
       "output_type": "pyout",
       "prompt_number": 53,
       "text": [
        "array(0.3, dtype=object)"
       ]
      }
     ],
     "prompt_number": 53
    },
    {
     "cell_type": "raw",
     "metadata": {},
     "source": [
      "Seconds after the stimulus before the trial ends"
     ]
    },
    {
     "cell_type": "code",
     "collapsed": false,
     "input": [
      "params['postDurInSec']"
     ],
     "language": "python",
     "metadata": {},
     "outputs": [
      {
       "metadata": {},
       "output_type": "pyout",
       "prompt_number": 54,
       "text": [
        "array(1, dtype=object)"
       ]
      }
     ],
     "prompt_number": 54
    },
    {
     "cell_type": "raw",
     "metadata": {},
     "source": [
      "This is just the sum of the previous three."
     ]
    },
    {
     "cell_type": "code",
     "collapsed": false,
     "input": [
      "params['durSweep']"
     ],
     "language": "python",
     "metadata": {},
     "outputs": [
      {
       "metadata": {},
       "output_type": "pyout",
       "prompt_number": 55,
       "text": [
        "array(1.7, dtype=object)"
       ]
      }
     ],
     "prompt_number": 55
    },
    {
     "cell_type": "markdown",
     "metadata": {},
     "source": [
      "%% \n",
      "% With these numbers, we can create a vector representing time.  This is\n",
      "% the time base for the stimulus.\n",
      "\n",
      "% a vector with 85001 entries.  Note, I started at 0.  This may be dumb,\n",
      "% but it was intuitive to me, and I just have to be consistent."
     ]
    },
    {
     "cell_type": "code",
     "collapsed": false,
     "input": [
      "number_of_samples = params['durSweep']*params['samprateout'];\n",
      "time_stim = np.arange(number_of_samples); \n",
      "time_stim = time_stim/float(params['samprateout']);\n",
      "pprint(time_stim)"
     ],
     "language": "python",
     "metadata": {},
     "outputs": [
      {
       "output_type": "stream",
       "stream": "stdout",
       "text": [
        "array([  0.00000000e+00,   2.00000000e-05,   4.00000000e-05, ...,\n",
        "         1.69994000e+00,   1.69996000e+00,   1.69998000e+00])\n"
       ]
      }
     ],
     "prompt_number": 127
    },
    {
     "cell_type": "markdown",
     "metadata": {},
     "source": [
      "\n",
      "% a time vector beginning at 0, ending at 1.7 sec.  \n",
      " \n",
      "% Careful: end has two meanings, as you'll see below (help end)."
     ]
    },
    {
     "cell_type": "raw",
     "metadata": {},
     "source": [
      "% \"diff\" finds the difference between entries in a vector \n",
      "% each entry is 2e-5 seconds apart, which would give you 50k samples per\n",
      "% second"
     ]
    },
    {
     "cell_type": "code",
     "collapsed": false,
     "input": [
      "time_stim[1]-time_stim[0]\n"
     ],
     "language": "python",
     "metadata": {},
     "outputs": [
      {
       "metadata": {},
       "output_type": "pyout",
       "prompt_number": 128,
       "text": [
        "2.0000000000000002e-05"
       ]
      }
     ],
     "prompt_number": 128
    },
    {
     "cell_type": "code",
     "collapsed": false,
     "input": [
      "time_stim[0]"
     ],
     "language": "python",
     "metadata": {},
     "outputs": [
      {
       "metadata": {},
       "output_type": "pyout",
       "prompt_number": 129,
       "text": [
        "0.0"
       ]
      }
     ],
     "prompt_number": 129
    },
    {
     "cell_type": "code",
     "collapsed": false,
     "input": [
      "time_stim[-1]"
     ],
     "language": "python",
     "metadata": {},
     "outputs": [
      {
       "metadata": {},
       "output_type": "pyout",
       "prompt_number": 130,
       "text": [
        "1.69998"
       ]
      }
     ],
     "prompt_number": 130
    },
    {
     "cell_type": "raw",
     "metadata": {},
     "source": [
      "% Subtract off the pre period so the stimulus starts at time = 0.\n"
     ]
    },
    {
     "cell_type": "code",
     "collapsed": false,
     "input": [
      "time_stim = time_stim - float(params['preDurInSec'])"
     ],
     "language": "python",
     "metadata": {},
     "outputs": [],
     "prompt_number": 131
    },
    {
     "cell_type": "markdown",
     "metadata": {},
     "source": [
      "%%\n",
      "% Use logical operations to learn about the vector.\n"
     ]
    },
    {
     "cell_type": "code",
     "collapsed": false,
     "input": [
      "np.sum(time_stim < 0)\n"
     ],
     "language": "python",
     "metadata": {},
     "outputs": [
      {
       "metadata": {},
       "output_type": "pyout",
       "prompt_number": 132,
       "text": [
        "20000"
       ]
      }
     ],
     "prompt_number": 132
    },
    {
     "cell_type": "markdown",
     "metadata": {},
     "source": [
      "% 2000 samples before the stimulus starts\n"
     ]
    },
    {
     "cell_type": "code",
     "collapsed": false,
     "input": [
      "np.sum((time_stim >= 0) & (time_stim < params['stimDurInSec']))"
     ],
     "language": "python",
     "metadata": {},
     "outputs": [
      {
       "metadata": {},
       "output_type": "pyout",
       "prompt_number": 133,
       "text": [
        "15001"
       ]
      }
     ],
     "prompt_number": 133
    },
    {
     "cell_type": "code",
     "collapsed": false,
     "input": [
      "np.sum(time_stim > params['stimDurInSec'])"
     ],
     "language": "python",
     "metadata": {},
     "outputs": [
      {
       "metadata": {},
       "output_type": "pyout",
       "prompt_number": 134,
       "text": [
        "49999"
       ]
      }
     ],
     "prompt_number": 134
    },
    {
     "cell_type": "code",
     "collapsed": false,
     "input": [
      "pprint(params['protocol'])\n",
      "pprint(params['freq']) # the frequency of the sine wave\n",
      "pprint(params['displacement']) # The amplitude.  This is a mechanical stimulus, so the displacement tells us how far the piezo moves.\n",
      "pprint(params['displacementOffset']) # This will offset our stimulus a certain amount\n",
      "pprint(params['ramptime']) # I don't want the sine wave to start right away, so I have a little ramping time to get to full amplitude."
     ],
     "language": "python",
     "metadata": {},
     "outputs": [
      {
       "output_type": "stream",
       "stream": "stdout",
       "text": [
        "array(u'PiezoSine', dtype=object)\n",
        "array(25, dtype=object)\n",
        "array(0.4, dtype=object)\n",
        "array(5, dtype=object)\n",
        "array(0.04, dtype=object)\n"
       ]
      }
     ],
     "prompt_number": 135
    },
    {
     "cell_type": "markdown",
     "metadata": {},
     "source": [
      "%%\n",
      "% You can safely skim the next section, down to the next 2 figures. This is\n",
      "% code from the acquisition \n",
      "% routines and is somewhat separate.\n",
      "% The stimulus vector is first a vector of zeros the same size as time."
     ]
    },
    {
     "cell_type": "code",
     "collapsed": false,
     "input": [
      "stim = time_stim;\n",
      "stim[1:] = 0;"
     ],
     "language": "python",
     "metadata": {},
     "outputs": [],
     "prompt_number": 136
    },
    {
     "cell_type": "code",
     "collapsed": false,
     "input": [
      "# Then I find the elements in the stim array that will contain the stimulus\n",
      "# i.e. entries 20001, through 35000 (20001:35000).\n",
      "stimpnts = np.round(np.arange(params['samprateout']*params['preDurInSec']-1,\n",
      "    params['samprateout']*(params['preDurInSec']+params['stimDurInSec'])))"
     ],
     "language": "python",
     "metadata": {},
     "outputs": [],
     "prompt_number": 137
    },
    {
     "cell_type": "code",
     "collapsed": false,
     "input": [
      "stimpnts"
     ],
     "language": "python",
     "metadata": {},
     "outputs": [
      {
       "metadata": {},
       "output_type": "pyout",
       "prompt_number": 138,
       "text": [
        "array([ 19999.,  20000.,  20001., ...,  34997.,  34998.,  34999.])"
       ]
      }
     ],
     "prompt_number": 138
    },
    {
     "cell_type": "markdown",
     "metadata": {},
     "source": [
      "% This creates a \"window\" that ramps at the begining and the end of the\n",
      "% stimlus, and I put the window into an array where the stimulus will be.\n",
      "% This uses fairly advanced syntax, you can figure out what it\n",
      "% does as an exercise.\n",
      "% Just take a look to see what we're working with.\n"
     ]
    },
    {
     "cell_type": "raw",
     "metadata": {},
     "source": [
      "TODO\n",
      "stimwindow = stim;\n",
      "w = window(@triang,2*params.ramptime*params.samprateout);\n",
      "w = [w(1:params.ramptime*params.samprateout);...\n",
      "    ones(length(stimpnts)-length(w),1);...\n",
      "    w(params.ramptime*params.samprateout+1:end)];\n",
      "\n",
      "stimwindow[stimpnts] = w;\n",
      "plt.plot(time_stim,stimwindow)    # see the ramping on and off?."
     ]
    },
    {
     "cell_type": "code",
     "collapsed": false,
     "input": [
      "stimwindow = stim"
     ],
     "language": "python",
     "metadata": {},
     "outputs": [],
     "prompt_number": 145
    },
    {
     "cell_type": "markdown",
     "metadata": {},
     "source": [
      "### Sign wave\n",
      "Now create a sine wave... and do element wise multiplication of the window and the sine wave.\n",
      "\n",
      "This puts zeros in the pre and post periods and a stimulus where it belongs.  \n",
      "\n",
      "Add on the offset. \n"
     ]
    },
    {
     "cell_type": "code",
     "collapsed": false,
     "input": [
      "sinewave = float(params['displacement']) * np.sin(float(params['freq']) * time_stim)\n",
      "\n",
      "stim = sinewave * stimwindow;\n",
      "\n",
      "stim = stim + params['displacementOffset'];\n",
      "stim = t['sgsmonitor'][:-1]\n",
      "plt.plot(time_stim,stimwindow, 'k')    # see the ramping on and off?.\n",
      "plt.hold(1)     # keep all the lines on the plot\n",
      "plt.plot(time_stim,stim,'r') # plot in red"
     ],
     "language": "python",
     "metadata": {},
     "outputs": [
      {
       "metadata": {},
       "output_type": "pyout",
       "prompt_number": 163,
       "text": [
        "[<matplotlib.lines.Line2D at 0x10c30ddd0>]"
       ]
      },
      {
       "metadata": {},
       "output_type": "display_data",
       "png": "[encoded data removed]",
       "text": [
        "<matplotlib.figure.Figure at 0x10c25a890>"
       ]
      }
     ],
     "prompt_number": 163
    },
    {
     "cell_type": "markdown",
     "metadata": {},
     "source": [
      "## Look at the response\n",
      "\n",
      "Several other parameters in the params structure are specific to respons acquisition, some are for documentation only (gain, secondary_gain, Vm_id).\n",
      "\n",
      "The mode indicates whether we were looking at the voltage or current of the cell."
     ]
    },
    {
     "cell_type": "code",
     "collapsed": false,
     "input": [
      "pprint(params['mode'])"
     ],
     "language": "python",
     "metadata": {},
     "outputs": [
      {
       "output_type": "stream",
       "stream": "stdout",
       "text": [
        "array(u'IClamp', dtype=object)\n"
       ]
      }
     ],
     "prompt_number": 148
    },
    {
     "cell_type": "markdown",
     "metadata": {},
     "source": [
      "In IClamp mode, I control the current injected into the cell through my patch pipette, while I record voltage.\n",
      "\n",
      "First we need a response time vector.  This could have a different sampling rate than the stimulus, though not in this case.  This is called sampratein, because the data is coming into the computer in this step.\n"
     ]
    },
    {
     "cell_type": "code",
     "collapsed": false,
     "input": [
      "number_of_samples = float(params['durSweep']*params['sampratein']);\n",
      "time_resp = np.arange(number_of_samples+1);  \n",
      "\n",
      "time_resp = time_resp/float(params['sampratein']);\n",
      "time_resp = time_resp - float(params['preDurInSec']);"
     ],
     "language": "python",
     "metadata": {},
     "outputs": [],
     "prompt_number": 168
    },
    {
     "cell_type": "markdown",
     "metadata": {},
     "source": [
      "First, the sgsmonitor (the strain gauge sensor monitor) reports the actual position of the probe, which is delayed relative to the stimulus itself, so it's important to see the difference."
     ]
    },
    {
     "cell_type": "code",
     "collapsed": false,
     "input": [
      "time_stim.shape"
     ],
     "language": "python",
     "metadata": {},
     "outputs": [
      {
       "metadata": {},
       "output_type": "pyout",
       "prompt_number": 169,
       "text": [
        "(85000,)"
       ]
      }
     ],
     "prompt_number": 169
    },
    {
     "cell_type": "code",
     "collapsed": false,
     "input": [
      "t['sgsmonitor'].shape"
     ],
     "language": "python",
     "metadata": {},
     "outputs": [
      {
       "metadata": {},
       "output_type": "pyout",
       "prompt_number": 170,
       "text": [
        "(85001,)"
       ]
      }
     ],
     "prompt_number": 170
    },
    {
     "cell_type": "code",
     "collapsed": false,
     "input": [
      "\n",
      "plt.plot(time_stim,stim,'r') # plot in red\n",
      "plt.hold(1)     # keep all the lines on the plot\n",
      "plt.plot(time_resp, t['sgsmonitor'],'k')\n"
     ],
     "language": "python",
     "metadata": {},
     "outputs": [
      {
       "metadata": {},
       "output_type": "pyout",
       "prompt_number": 171,
       "text": [
        "[<matplotlib.lines.Line2D at 0x1091174d0>]"
       ]
      },
      {
       "metadata": {},
       "output_type": "display_data",
       "png": "[encoded data removed]",
       "text": [
        "<matplotlib.figure.Figure at 0x10c2fbd50>"
       ]
      }
     ],
     "prompt_number": 171
    },
    {
     "cell_type": "code",
     "collapsed": false,
     "input": [
      "# Now plot the response in a new figure\n",
      "plt.plot(time_resp,t['voltage']);"
     ],
     "language": "python",
     "metadata": {},
     "outputs": [
      {
       "metadata": {},
       "output_type": "display_data",
       "png": "[encoded data removed]",
       "text": [
        "<matplotlib.figure.Figure at 0x10c2d5350>"
       ]
      }
     ],
     "prompt_number": 172
    },
    {
     "cell_type": "raw",
     "metadata": {},
     "source": [
      "%%\n",
      "% This is the voltage response of the cell when I move the antenna with \n",
      "% the stimulus we created above.\n",
      "% Admitedly, this looks like a bunch of hash and is somewhat unimpressive.\n",
      "% Just hold tight.\n",
      "%\n",
      "% Alternative display ideas:"
     ]
    },
    {
     "cell_type": "code",
     "collapsed": false,
     "input": [
      "plt.subplot(2,1,1)  # plt.subplot?\n",
      "plt.plot(time_resp,t['sgsmonitor'])\n",
      "\n",
      "plt.subplot(2,1,2)  \n",
      "plt.plot(time_resp,t['voltage'])"
     ],
     "language": "python",
     "metadata": {},
     "outputs": [
      {
       "ename": "NameError",
       "evalue": "name 'displacement_in_microns_per_volt' is not defined",
       "output_type": "pyerr",
       "traceback": [
        "\u001b[0;31m---------------------------------------------------------------------------\u001b[0m\n\u001b[0;31mNameError\u001b[0m                                 Traceback (most recent call last)",
        "\u001b[0;32m<ipython-input-178-6c7147865e57>\u001b[0m in \u001b[0;36m<module>\u001b[0;34m()\u001b[0m\n\u001b[1;32m      4\u001b[0m                                                \u001b[0mparams\u001b[0m\u001b[0;34m[\u001b[0m\u001b[0;34m'freq'\u001b[0m\u001b[0;34m]\u001b[0m\u001b[0;34m,\u001b[0m\u001b[0;34m\u001b[0m\u001b[0m\n\u001b[1;32m      5\u001b[0m                                                \u001b[0mparams\u001b[0m\u001b[0;34m[\u001b[0m\u001b[0;34m'displacement'\u001b[0m\u001b[0;34m]\u001b[0m \u001b[0;34m*\u001b[0m\u001b[0;34m\u001b[0m\u001b[0m\n\u001b[0;32m----> 6\u001b[0;31m                                                displacement_in_microns_per_volt))\n\u001b[0m\u001b[1;32m      7\u001b[0m \u001b[0mplt\u001b[0m\u001b[0;34m.\u001b[0m\u001b[0mylabel\u001b[0m\u001b[0;34m(\u001b[0m\u001b[0;34m'Stimulus command (V)'\u001b[0m\u001b[0;34m)\u001b[0m\u001b[0;34m;\u001b[0m\u001b[0;34m\u001b[0m\u001b[0m\n\u001b[1;32m      8\u001b[0m \u001b[0mplt\u001b[0m\u001b[0;34m.\u001b[0m\u001b[0mxlabel\u001b[0m\u001b[0;34m(\u001b[0m\u001b[0;34m'Time (sec)'\u001b[0m\u001b[0;34m)\u001b[0m\u001b[0;34m;\u001b[0m\u001b[0;34m\u001b[0m\u001b[0m\n",
        "\u001b[0;31mNameError\u001b[0m: name 'displacement_in_microns_per_volt' is not defined"
       ]
      },
      {
       "metadata": {},
       "output_type": "display_data",
       "png": "[encoded data removed]",
       "text": [
        "<matplotlib.figure.Figure at 0x10d437950>"
       ]
      }
     ],
     "prompt_number": 178
    },
    {
     "cell_type": "raw",
     "metadata": {},
     "source": [
      "% The stimulus and sgsmonitor are in V, the command and signal from the\n",
      "% actuator.  The actual diplacement of the probe comes from converting to\n",
      "% microns "
     ]
    },
    {
     "cell_type": "code",
     "collapsed": false,
     "input": [
      "\n",
      "displacement_in_microns_per_volt = 3\n",
      "\n",
      "plt.subplot(2,1,1)  # plt.subplot\n",
      "plt.plot(time_resp,t['sgsmonitor'])\n",
      "plt.title('{} stimulus: {} Hz, {} \\mum'.format(params['protocol'], \n",
      "                                               params['freq'], \n",
      "                                               params['displacement'] * \n",
      "                                               displacement_in_microns_per_volt))\n",
      "plt.ylabel('Stimulus command (V)');\n",
      "plt.xlabel('Time (sec)');\n",
      "\n",
      "plt.subplot(2,1,2)  \n",
      "plt.plot(time_resp,t['voltage'])\n",
      "plt.title('Response')\n",
      "plt.ylabel('Voltage (mV)');\n",
      "plt.xlabel('Time (sec)');\n"
     ],
     "language": "python",
     "metadata": {},
     "outputs": [
      {
       "metadata": {},
       "output_type": "display_data",
       "png": "[encoded data removed]",
       "text": [
        "<matplotlib.figure.Figure at 0x10daec350>"
       ]
      }
     ],
     "prompt_number": 181
    },
    {
     "cell_type": "markdown",
     "metadata": {},
     "source": [
      "# Analysis Example"
     ]
    },
    {
     "cell_type": "raw",
     "metadata": {},
     "source": [
      "%% Analysis example\n",
      "% Finally we would like to use these data to answer a question. The general\n",
      "% question I would like to ask is whether different cells are selective for\n",
      "% different frequencies of antennal movement. (To reframe this for an NIH\n",
      "% fellowship: I will test the hypothesis that different cells have different\n",
      "% frequency/response relationships)\n",
      "% Thus, as a specific question,\n",
      "% I would like to know how a given cell responds to a range of frequencies.\n",
      "%\n",
      "% Obviously,\n",
      "% experimental design is a critical part of being able to answer this specific\n",
      "% question.  We will assume that I designed the experiment appropriately\n",
      "% and gathered sufficient data to do this.  \n",
      "%\n",
      "% What I have done is deliver mechanical stimuli with a range of different\n",
      "% frequencies, and with a range of amplitudes (displacements) at each frequency.\n",
      "% For each frequency, displacement pair, I have recorded three trials to be\n",
      "% able to get an average response.\n",
      "%\n",
      "% The first goal in the analysis is to find the three trials with the same\n",
      "% frequency and displacement.  We can see the set of frequencies and\n",
      "% displacemts because I keep \n",
      "% that information in the params matlab structure."
     ]
    },
    {
     "cell_type": "code",
     "collapsed": false,
     "input": [
      "pprint(params['freqs'].item())\n",
      "pprint(params['displacements'].item())"
     ],
     "language": "python",
     "metadata": {},
     "outputs": [
      {
       "output_type": "stream",
       "stream": "stdout",
       "text": [
        "array([ 25,  50, 100, 200, 400], dtype=uint16)\n",
        "array([ 0.1,  0.2,  0.4])\n"
       ]
      }
     ],
     "prompt_number": 185
    },
    {
     "cell_type": "markdown",
     "metadata": {},
     "source": [
      "## Data Structure\n",
      "Then I need to import the data from the raw data files\n",
      "into a data structure in matlab that will let me operate on those data\n",
      "easily.  "
     ]
    },
    {
     "cell_type": "markdown",
     "metadata": {},
     "source": [
      "### Aside about data structures\n",
      "By \"data structure\", I don't necessarily mean I will use matlab structure\n",
      "like the params structure we have above, though I could.  \n",
      "Data structure is just the general term for how data are\n",
      "grouped together. Other data structures we have encountered so far--\n",
      "besides \"matlab\" structures, a confusing name--\n",
      "include vectors, aka arrays (current, voltage, time)\n",
      "and cell arrays (an empty one called tags).  Take a look at the variables\n",
      "in the workspace.  Under the class column, you can see the data\n",
      "structure type.  \n",
      "\n",
      "The extension of the 1D array into multple dimensions\n",
      "is called a matrix.  A matrix is a very convenient data structure to hold\n",
      "multiple rows and columns of NUMERICAL data because you can then do simple\n",
      "mathematical operations on the matrix, along any dimension you choose.\n",
      "\n",
      "This is how I will store the voltage responses from each trial: a 2D\n",
      "matrix with 3 rows, one for each trial with a given frequency and\n",
      "displacement, and with 85001 columns, one for each time sample.\n",
      "Then I will be able to take the average of all the trials\n",
      "easily, along the first dimension, as it happens.\n",
      "As an extension, if I were analyzing movies, my matrix might consist of\n",
      "image frames as 2D x-y data, with a third dimension as frame number over\n",
      "time.  Or, if it's a color movie, I might have a 4D matrix:\n",
      "x,y,color,time. etc.\n",
      "MATLAB (MATrix LABoratory) was designed for this.\n",
      "As for the cell array: whereas the matrix can only hold numeric data,\n",
      "the cell array is a generic structure that can hold anything \n",
      "you want: numbers, strings, other cell arrays, anything.  It can also be\n",
      "as many dimensions as you like. So it's a flexible data structure.  \n",
      "It's just not good for holding numeric data because you wouldn't be able\n",
      "to perform mathematical operations on them, it's not built for that.\n",
      "For the data structure called a \"MATLAB\" structure, we have seen an\n",
      "example of its advantage while we were using |params| : We can \n",
      "get values out by just calling the field name.  This lets you group a\n",
      "bunch of things under one variable, and it doens't matter whether they\n",
      "are strings or numeric types or even cell arrays or other structures.\n",
      "Choosing a matrix to hold my trial data is an example of the\n",
      "decisions I have to make when managing data.\n",
      "\n",
      "Anyways...\n"
     ]
    },
    {
     "cell_type": "raw",
     "metadata": {},
     "source": [
      "% From my experimental design, I know that in PiezoSine trials with numbers \n",
      "% 1, 16, and 31,\n",
      "% I delivered a stimulus with a displacement of .1 V and a frequency of 25 Hz.\n",
      "% This is because I looped over all the displacements at each frequency,\n",
      "% then changed the frequency, before repeating the whole set.  \n"
     ]
    },
    {
     "cell_type": "code",
     "collapsed": false,
     "input": [
      "trials_25Hz_0_1 = [1, 16, 31]"
     ],
     "language": "python",
     "metadata": {},
     "outputs": [],
     "prompt_number": 187
    },
    {
     "cell_type": "raw",
     "metadata": {},
     "source": [
      "% This is the simplest way of finding data: knowing where it is.  But I'm\n",
      "% bad at this method, chiefly\n",
      "% because this often involves looking back and forth from a note book or\n",
      "% file to my computer to enter numbers that are subject to typos.  I\n",
      "% usually try to be a little more programatic about it.  If you notice in\n",
      "% the |params|\n",
      "% structure, a field called |trialBlock| indicates that a trial belongs\n",
      "% in a particular set.  I might also search through the files in this\n",
      "% directory, using code like below, and find trials that have identical\n",
      "% parameters (except for trial number). But you can do this however you\n",
      "% like."
     ]
    },
    {
     "cell_type": "raw",
     "metadata": {},
     "source": [
      "% I know how many trials I need to import (3).\n",
      "% I also know how long the voltage traces will be because all the trials\n",
      "% were run the same way and we have already played with one.  To cut down\n",
      "% on operations and time, \n",
      "% I will create a matrix before I start that will be the same size as the\n",
      "% one I ultimately need. This is best practices, the technical term is to\n",
      "% \"allocate\" memory, or \"preallocate\" an array\n"
     ]
    },
    {
     "cell_type": "code",
     "collapsed": false,
     "input": [
      "voltage_matrix = np.zeros([len(trials_25Hz_0_1), len(t['voltage'])])\n",
      "voltage_matrix.shape"
     ],
     "language": "python",
     "metadata": {},
     "outputs": [
      {
       "metadata": {},
       "output_type": "pyout",
       "prompt_number": 196,
       "text": [
        "(3, 85001)"
       ]
      }
     ],
     "prompt_number": 196
    },
    {
     "cell_type": "raw",
     "metadata": {},
     "source": [
      "%%\n",
      "% Now I'll loop over the different trials we need.  I'll use a counter,\n",
      "% |trial_index|, that will increase by one on each loop, from 1 to 3"
     ]
    },
    {
     "cell_type": "code",
     "collapsed": false,
     "input": [
      "for trial_index in xrange(len(trials_25Hz_0_1)):\n",
      "    print(trial_index)\n",
      "    \n",
      "    # make the trial filename\n",
      "    trial_file_name = 'PiezoSine_Raw_131126_F2_C1_{trial}.mat'.format(trial=trial_index + 1)\n",
      "    # load the trial    \n",
      "    trial = load(os.path.join(raw_data_directory, '131126', '131126_F2_C1', trial_file_name))\n",
      "    \n",
      "    # just make sure the trial is what I want\n",
      "    print(trial['params']['freq'])\n",
      "    print(trial['params']['displacement'])\n",
      "    \n",
      "    # put the voltage trace into the voltage matrix\n",
      "    voltage_matrix[trial_index,:] = trial['voltage']\n"
     ],
     "language": "python",
     "metadata": {},
     "outputs": [
      {
       "output_type": "stream",
       "stream": "stdout",
       "text": [
        "0\n",
        "25\n",
        "0.1\n",
        "1\n",
        "25"
       ]
      },
      {
       "output_type": "stream",
       "stream": "stdout",
       "text": [
        "\n",
        "0.2\n",
        "2\n",
        "25\n",
        "0.4\n"
       ]
      }
     ],
     "prompt_number": 202
    },
    {
     "cell_type": "code",
     "collapsed": false,
     "input": [
      "# I re-create the time vector, using the trial structure:\n",
      "time = np.arange(trial['params']['durSweep']*trial['params']['sampratein']+1)/trial['params']['sampratein']\n",
      "time = time-trial['params']['preDurInSec']\n",
      "pprint(time)"
     ],
     "language": "python",
     "metadata": {},
     "outputs": [
      {
       "output_type": "stream",
       "stream": "stdout",
       "text": [
        "array([-0.4, -0.39998, -0.39996000000000004, ..., 1.29996,\n",
        "       1.2999800000000001, 1.2999999999999998], dtype=object)\n"
       ]
      }
     ],
     "prompt_number": 212
    },
    {
     "cell_type": "raw",
     "metadata": {},
     "source": [
      "%%\n",
      "% And I take a look at what I have loaded.  When calling |plot|, matlab\n",
      "% assumes the same time base for each y row. Again, not entirely\n",
      "% satisfying."
     ]
    },
    {
     "cell_type": "code",
     "collapsed": false,
     "input": [
      "print(time.shape)\n",
      "print(voltage_matrix.shape)"
     ],
     "language": "python",
     "metadata": {},
     "outputs": [
      {
       "output_type": "stream",
       "stream": "stdout",
       "text": [
        "(85001,)\n",
        "(3, 85001)\n"
       ]
      }
     ],
     "prompt_number": 213
    },
    {
     "cell_type": "code",
     "collapsed": false,
     "input": [
      "plt.plot(time,voltage_matrix.T)"
     ],
     "language": "python",
     "metadata": {},
     "outputs": [
      {
       "metadata": {},
       "output_type": "pyout",
       "prompt_number": 216,
       "text": [
        "[<matplotlib.lines.Line2D at 0x10dacb190>,\n",
        " <matplotlib.lines.Line2D at 0x10daedad0>,\n",
        " <matplotlib.lines.Line2D at 0x10daed790>]"
       ]
      },
      {
       "metadata": {},
       "output_type": "display_data",
       "png": "[encoded data removed]",
       "text": [
        "<matplotlib.figure.Figure at 0x10c34f5d0>"
       ]
      }
     ],
     "prompt_number": 216
    },
    {
     "cell_type": "markdown",
     "metadata": {},
     "source": [
      "## Operating on the data\n",
      "The real operation I want to run is the average along the 1st dimension"
     ]
    },
    {
     "cell_type": "code",
     "collapsed": false,
     "input": [
      "mean_voltage_trace = voltage_matrix.mean(axis=0)\n",
      "print(mean_voltage_trace.shape)"
     ],
     "language": "python",
     "metadata": {},
     "outputs": [
      {
       "output_type": "stream",
       "stream": "stdout",
       "text": [
        "(85001,)\n"
       ]
      }
     ],
     "prompt_number": 222
    },
    {
     "cell_type": "raw",
     "metadata": {},
     "source": [
      "%%\n",
      "% Plot what happened (using a syntax that lets me control the\n",
      "% color of the lines)."
     ]
    },
    {
     "cell_type": "code",
     "collapsed": false,
     "input": [
      "# plot the individual traces in pink\n",
      "plt.plot(time,voltage_matrix.T, color=[1, .7, .7]); \n",
      "plt.hold(1)\n",
      "\n",
      "# plot the average trace in red\n",
      "plt.plot(time,mean_voltage_trace, 'r'); "
     ],
     "language": "python",
     "metadata": {},
     "outputs": [
      {
       "metadata": {},
       "output_type": "display_data",
       "png": "[encoded data removed]",
       "text": [
        "<matplotlib.figure.Figure at 0x10e950a10>"
       ]
      }
     ],
     "prompt_number": 231
    },
    {
     "cell_type": "raw",
     "metadata": {},
     "source": [
      "%% \n",
      "% What I would like to know is, for this stimulus, what is the amplitude of\n",
      "% the response?\n",
      "% I choose to calculate the amplitude as the maximum of the\n",
      "% response during the stimulus period (between 0 and the stimulus\n",
      "% duration), minus the average voltage during the \n",
      "% base line (time < 0).\n",
      "% Note, |mean_voltage_trace| is a 1D vector, so I'm not specifying the\n",
      "% dimension here"
     ]
    },
    {
     "cell_type": "code",
     "collapsed": false,
     "input": [
      "baseline_average = np.mean(mean_voltage_trace[time < 0])\n",
      "pprint(baseline_average)\n",
      "\n",
      "max_response = np.max(mean_voltage_trace[(time > 0) & (time < float(trial['params']['stimDurInSec']))])\n",
      "pprint(max_response)\n",
      "\n",
      "amplitude_25Hz_0_1 = max_response - baseline_average\n",
      "pprint(amplitude_25Hz_0_1)"
     ],
     "language": "python",
     "metadata": {},
     "outputs": [
      {
       "output_type": "stream",
       "stream": "stdout",
       "text": [
        "-34.804924118655329\n",
        "-32.6066774819937\n",
        "2.1982466366616293\n"
       ]
      }
     ],
     "prompt_number": 255
    },
    {
     "cell_type": "raw",
     "metadata": {},
     "source": [
      "% As an exercise, consider that\n",
      "% I could instead take the average of the maximum amplitudes of each trial,\n",
      "% but that would give me a different answer."
     ]
    },
    {
     "cell_type": "markdown",
     "metadata": {},
     "source": [
      "## Broadening the analysis\n",
      "Thus far, I have looked at the lowest frequency and smallest displacement.  \n",
      "I will repeat the same procedure with each set of frequencies and\n",
      "displacements. \n",
      "\n",
      "To do this more programatically, I will loop\n",
      "over a collection of trial number vectors like trials_25Hz_0_1. Just as\n",
      "for trials_25Hz_0_1, the trials are spaced 15 trials apart for all of the\n",
      "other frequencies and displacements.\n",
      "\n",
      "I can also use the following example syntax:\n",
      "`trials_25Hz_0_1 = np.arange(0,60,15)`\n"
     ]
    },
    {
     "cell_type": "code",
     "collapsed": false,
     "input": [
      "np.arange(0,60,15)"
     ],
     "language": "python",
     "metadata": {},
     "outputs": [
      {
       "metadata": {},
       "output_type": "pyout",
       "prompt_number": 262,
       "text": [
        "array([ 0, 15, 30, 45])"
       ]
      }
     ],
     "prompt_number": 262
    },
    {
     "cell_type": "raw",
     "metadata": {},
     "source": [
      "% or, I could find find those values programatically, too. This would be\n",
      "% useful if I for some reason used more or fewer frequencies or\n",
      "% displacements"
     ]
    },
    {
     "cell_type": "code",
     "collapsed": false,
     "input": [
      "number_of_stimuli = len(trial['params']['freqs'].item()) * len(trial['params']['displacements'].item())\n",
      "\n",
      "repetitions = 3"
     ],
     "language": "python",
     "metadata": {},
     "outputs": [],
     "prompt_number": 268
    },
    {
     "cell_type": "raw",
     "metadata": {},
     "source": [
      "% I'm looking for the amplitude of the average response to each of these\n",
      "% stimuli, so I want to preallocate a matrix to hold those calculated\n",
      "% values, and for good measure, redefine \n",
      "%   |voltage_matrix|."
     ]
    },
    {
     "cell_type": "code",
     "collapsed": false,
     "input": [
      "trial['voltage'].size"
     ],
     "language": "python",
     "metadata": {},
     "outputs": [
      {
       "metadata": {},
       "output_type": "pyout",
       "prompt_number": 274,
       "text": [
        "85001"
       ]
      }
     ],
     "prompt_number": 274
    },
    {
     "cell_type": "code",
     "collapsed": false,
     "input": [
      "amplitudes = np.zeros((len(trial['params']['freqs'].item()), \n",
      "                      len(trial['params']['displacements'].item())))\n",
      "\n",
      "voltage_matrix = np.zeros((number_of_stimuli, trial['voltage'].size))\n",
      "print(voltage_matrix.shape)"
     ],
     "language": "python",
     "metadata": {},
     "outputs": [
      {
       "output_type": "stream",
       "stream": "stdout",
       "text": [
        "(15, 85001)\n"
       ]
      }
     ],
     "prompt_number": 309
    },
    {
     "cell_type": "raw",
     "metadata": {},
     "source": [
      "% Now I will create a loop that will use  \n",
      "%   |first_trial_number|\n",
      "% as a counter.  As this increases, it changes \n",
      "%   |trialnumbers|\n",
      "% to give the trial numbers for the same stimulus trials. I will do the\n",
      "% same calculation as above, while moving\n",
      "% along the rows, then columns of the \n",
      "% amplitudes matrix to fill it in with each result."
     ]
    },
    {
     "cell_type": "code",
     "collapsed": false,
     "input": [
      "first_trial_number = 0;\n",
      "for ii in xrange(len(trial['params']['freqs'].item())):\n",
      "    for jj in xrange(len(trial['params']['displacements'].item())):\n",
      "\n",
      "        first_trial_number = first_trial_number + 1;\n",
      "\n",
      "        for trial_index in xrange(number_of_stimuli):\n",
      "            print(trial_index)\n",
      "            \n",
      "            # make the trial filename\n",
      "            trial_file_name = 'PiezoSine_Raw_131126_F2_C1_{trial}.mat'.format(trial=trial_index+1)\n",
      "\n",
      "            # load the trial\n",
      "            trial = load(os.path.join(raw_data_directory, '131126', '131126_F2_C1', trial_file_name));\n",
      "            \n",
      "            # just make sure the trial is what I want\n",
      "            print(trial['params']['freq'])\n",
      "            print(trial['params']['displacement'])\n",
      "            \n",
      "            # put the voltage trace into the voltage matrix\n",
      "            voltage_matrix[trial_index,:] = trial['voltage']\n",
      "\n",
      "        mean_voltage_trace = np.mean(voltage_matrix, axis=0)\n",
      "        baseline_average = np.mean(mean_voltage_trace[time < 0])\n",
      "        max_response = np.max(mean_voltage_trace[(time > 0) & (time < trial['params']['stimDurInSec'])])        \n",
      "        amplitudes[ii,jj] = max_response - baseline_average;\n",
      "\n",
      "amplitudes"
     ],
     "language": "python",
     "metadata": {},
     "outputs": [
      {
       "output_type": "stream",
       "stream": "stdout",
       "text": [
        "0\n",
        "25\n",
        "0.1\n",
        "1\n",
        "25"
       ]
      },
      {
       "output_type": "stream",
       "stream": "stdout",
       "text": [
        "\n",
        "0.2\n",
        "2\n",
        "25\n",
        "0.4\n",
        "3\n",
        "50"
       ]
      },
      {
       "output_type": "stream",
       "stream": "stdout",
       "text": [
        "\n",
        "0.1\n",
        "4\n",
        "50\n",
        "0.2\n",
        "5\n",
        "50"
       ]
      },
      {
       "output_type": "stream",
       "stream": "stdout",
       "text": [
        "\n",
        "0.4\n",
        "6\n",
        "100\n",
        "0.1\n",
        "7\n",
        "100"
       ]
      },
      {
       "output_type": "stream",
       "stream": "stdout",
       "text": [
        "\n",
        "0.2\n",
        "8\n",
        "100\n",
        "0.4\n",
        "9\n",
        "200"
       ]
      },
      {
       "output_type": "stream",
       "stream": "stdout",
       "text": [
        "\n",
        "0.1\n",
        "10\n",
        "200\n",
        "0.2\n",
        "11\n",
        "200\n",
        "0.4\n",
        "12\n",
        "400"
       ]
      },
      {
       "output_type": "stream",
       "stream": "stdout",
       "text": [
        "\n",
        "0.1\n",
        "13\n",
        "400\n",
        "0.2\n",
        "14\n",
        "400\n",
        "0.4\n",
        "0"
       ]
      },
      {
       "output_type": "stream",
       "stream": "stdout",
       "text": [
        "\n",
        "25\n",
        "0.1\n",
        "1\n",
        "25\n",
        "0.2\n",
        "2\n",
        "25"
       ]
      },
      {
       "output_type": "stream",
       "stream": "stdout",
       "text": [
        "\n",
        "0.4\n",
        "3\n",
        "50\n",
        "0.1\n",
        "4\n",
        "50"
       ]
      },
      {
       "output_type": "stream",
       "stream": "stdout",
       "text": [
        "\n",
        "0.2\n",
        "5\n",
        "50\n",
        "0.4\n",
        "6\n",
        "100"
       ]
      },
      {
       "output_type": "stream",
       "stream": "stdout",
       "text": [
        "\n",
        "0.1\n",
        "7\n",
        "100\n",
        "0.2\n",
        "8\n",
        "100"
       ]
      },
      {
       "output_type": "stream",
       "stream": "stdout",
       "text": [
        "\n",
        "0.4\n",
        "9\n",
        "200\n",
        "0.1\n",
        "10\n",
        "200"
       ]
      },
      {
       "output_type": "stream",
       "stream": "stdout",
       "text": [
        "\n",
        "0.2\n",
        "11\n",
        "200\n",
        "0.4\n",
        "12\n",
        "400"
       ]
      },
      {
       "output_type": "stream",
       "stream": "stdout",
       "text": [
        "\n",
        "0.1\n",
        "13\n",
        "400\n",
        "0.2\n",
        "14\n",
        "400"
       ]
      },
      {
       "output_type": "stream",
       "stream": "stdout",
       "text": [
        "\n",
        "0.4\n",
        "0\n",
        "25\n",
        "0.1\n",
        "1\n",
        "25"
       ]
      },
      {
       "output_type": "stream",
       "stream": "stdout",
       "text": [
        "\n",
        "0.2\n",
        "2\n",
        "25\n",
        "0.4\n",
        "3\n",
        "50"
       ]
      },
      {
       "output_type": "stream",
       "stream": "stdout",
       "text": [
        "\n",
        "0.1\n",
        "4\n",
        "50\n",
        "0.2\n",
        "5\n",
        "50"
       ]
      },
      {
       "output_type": "stream",
       "stream": "stdout",
       "text": [
        "\n",
        "0.4\n",
        "6\n",
        "100\n",
        "0.1\n",
        "7\n",
        "100"
       ]
      },
      {
       "output_type": "stream",
       "stream": "stdout",
       "text": [
        "\n",
        "0.2\n",
        "8\n",
        "100\n",
        "0.4\n",
        "9\n",
        "200"
       ]
      },
      {
       "output_type": "stream",
       "stream": "stdout",
       "text": [
        "\n",
        "0.1\n",
        "10\n",
        "200\n",
        "0.2\n",
        "11\n",
        "200"
       ]
      },
      {
       "output_type": "stream",
       "stream": "stdout",
       "text": [
        "\n",
        "0.4\n",
        "12\n",
        "400\n",
        "0.1\n",
        "13\n",
        "400"
       ]
      },
      {
       "output_type": "stream",
       "stream": "stdout",
       "text": [
        "\n",
        "0.2\n",
        "14\n",
        "400\n",
        "0.4\n",
        "0\n",
        "25"
       ]
      },
      {
       "output_type": "stream",
       "stream": "stdout",
       "text": [
        "\n",
        "0.1\n",
        "1\n",
        "25\n",
        "0.2\n",
        "2\n",
        "25"
       ]
      },
      {
       "output_type": "stream",
       "stream": "stdout",
       "text": [
        "\n",
        "0.4\n",
        "3\n",
        "50\n",
        "0.1\n",
        "4\n",
        "50"
       ]
      },
      {
       "output_type": "stream",
       "stream": "stdout",
       "text": [
        "\n",
        "0.2\n",
        "5\n",
        "50\n",
        "0.4\n",
        "6\n",
        "100"
       ]
      },
      {
       "output_type": "stream",
       "stream": "stdout",
       "text": [
        "\n",
        "0.1\n",
        "7\n",
        "100\n",
        "0.2\n",
        "8\n",
        "100"
       ]
      },
      {
       "output_type": "stream",
       "stream": "stdout",
       "text": [
        "\n",
        "0.4\n",
        "9\n",
        "200\n",
        "0.1\n",
        "10\n",
        "200"
       ]
      },
      {
       "output_type": "stream",
       "stream": "stdout",
       "text": [
        "\n",
        "0.2\n",
        "11\n",
        "200\n",
        "0.4\n",
        "12\n",
        "400"
       ]
      },
      {
       "output_type": "stream",
       "stream": "stdout",
       "text": [
        "\n",
        "0.1\n",
        "13\n",
        "400\n",
        "0.2\n",
        "14\n",
        "400"
       ]
      },
      {
       "output_type": "stream",
       "stream": "stdout",
       "text": [
        "\n",
        "0.4\n",
        "0\n",
        "25\n",
        "0.1\n",
        "1\n",
        "25"
       ]
      },
      {
       "output_type": "stream",
       "stream": "stdout",
       "text": [
        "\n",
        "0.2\n",
        "2\n",
        "25\n",
        "0.4\n",
        "3\n",
        "50\n",
        "0.1\n",
        "4"
       ]
      },
      {
       "output_type": "stream",
       "stream": "stdout",
       "text": [
        "\n",
        "50\n",
        "0.2\n",
        "5\n",
        "50\n",
        "0.4\n",
        "6\n",
        "100"
       ]
      },
      {
       "output_type": "stream",
       "stream": "stdout",
       "text": [
        "\n",
        "0.1\n",
        "7\n",
        "100\n",
        "0.2\n",
        "8\n",
        "100"
       ]
      },
      {
       "output_type": "stream",
       "stream": "stdout",
       "text": [
        "\n",
        "0.4\n",
        "9\n",
        "200\n",
        "0.1\n",
        "10\n",
        "200\n",
        "0.2\n",
        "11\n",
        "200"
       ]
      },
      {
       "output_type": "stream",
       "stream": "stdout",
       "text": [
        "\n",
        "0.4\n",
        "12\n",
        "400\n",
        "0.1\n",
        "13\n",
        "400"
       ]
      },
      {
       "output_type": "stream",
       "stream": "stdout",
       "text": [
        "\n",
        "0.2\n",
        "14\n",
        "400\n",
        "0.4\n",
        "0\n",
        "25"
       ]
      },
      {
       "output_type": "stream",
       "stream": "stdout",
       "text": [
        "\n",
        "0.1\n",
        "1\n",
        "25\n",
        "0.2\n",
        "2\n",
        "25"
       ]
      },
      {
       "output_type": "stream",
       "stream": "stdout",
       "text": [
        "\n",
        "0.4\n",
        "3\n",
        "50\n",
        "0.1\n",
        "4\n",
        "50"
       ]
      },
      {
       "output_type": "stream",
       "stream": "stdout",
       "text": [
        "\n",
        "0.2\n",
        "5\n",
        "50\n",
        "0.4\n",
        "6\n",
        "100"
       ]
      },
      {
       "output_type": "stream",
       "stream": "stdout",
       "text": [
        "\n",
        "0.1\n",
        "7\n",
        "100\n",
        "0.2\n",
        "8\n",
        "100"
       ]
      },
      {
       "output_type": "stream",
       "stream": "stdout",
       "text": [
        "\n",
        "0.4\n",
        "9\n",
        "200\n",
        "0.1\n",
        "10\n",
        "200\n",
        "0.2\n",
        "11\n",
        "200"
       ]
      },
      {
       "output_type": "stream",
       "stream": "stdout",
       "text": [
        "\n",
        "0.4\n",
        "12\n",
        "400\n",
        "0.1\n",
        "13\n",
        "400\n",
        "0.2\n",
        "14\n",
        "400"
       ]
      },
      {
       "output_type": "stream",
       "stream": "stdout",
       "text": [
        "\n",
        "0.4\n",
        "0\n",
        "25\n",
        "0.1\n",
        "1\n",
        "25"
       ]
      },
      {
       "output_type": "stream",
       "stream": "stdout",
       "text": [
        "\n",
        "0.2\n",
        "2\n",
        "25\n",
        "0.4\n",
        "3\n",
        "50"
       ]
      },
      {
       "output_type": "stream",
       "stream": "stdout",
       "text": [
        "\n",
        "0.1\n",
        "4\n",
        "50\n",
        "0.2\n",
        "5\n",
        "50"
       ]
      },
      {
       "output_type": "stream",
       "stream": "stdout",
       "text": [
        "\n",
        "0.4\n",
        "6\n",
        "100\n",
        "0.1\n",
        "7\n",
        "100"
       ]
      },
      {
       "output_type": "stream",
       "stream": "stdout",
       "text": [
        "\n",
        "0.2\n",
        "8\n",
        "100\n",
        "0.4\n",
        "9\n",
        "200\n",
        "0.1\n",
        "10\n",
        "200"
       ]
      },
      {
       "output_type": "stream",
       "stream": "stdout",
       "text": [
        "\n",
        "0.2\n",
        "11\n",
        "200\n",
        "0.4\n",
        "12\n",
        "400\n",
        "0.1\n",
        "13\n",
        "400"
       ]
      },
      {
       "output_type": "stream",
       "stream": "stdout",
       "text": [
        "\n",
        "0.2\n",
        "14\n",
        "400\n",
        "0.4\n",
        "0\n",
        "25"
       ]
      },
      {
       "output_type": "stream",
       "stream": "stdout",
       "text": [
        "\n",
        "0.1\n",
        "1\n",
        "25\n",
        "0.2\n",
        "2\n",
        "25"
       ]
      },
      {
       "output_type": "stream",
       "stream": "stdout",
       "text": [
        "\n",
        "0.4\n",
        "3\n",
        "50\n",
        "0.1\n",
        "4\n",
        "50\n",
        "0.2\n",
        "5\n",
        "50"
       ]
      },
      {
       "output_type": "stream",
       "stream": "stdout",
       "text": [
        "\n",
        "0.4\n",
        "6\n",
        "100\n",
        "0.1\n",
        "7\n",
        "100"
       ]
      },
      {
       "output_type": "stream",
       "stream": "stdout",
       "text": [
        "\n",
        "0.2\n",
        "8\n",
        "100\n",
        "0.4\n",
        "9\n",
        "200\n",
        "0.1\n",
        "10\n",
        "200"
       ]
      },
      {
       "output_type": "stream",
       "stream": "stdout",
       "text": [
        "\n",
        "0.2\n",
        "11\n",
        "200\n",
        "0.4\n",
        "12\n",
        "400\n",
        "0.1\n",
        "13\n",
        "400"
       ]
      },
      {
       "output_type": "stream",
       "stream": "stdout",
       "text": [
        "\n",
        "0.2\n",
        "14\n",
        "400\n",
        "0.4\n",
        "0\n",
        "25"
       ]
      },
      {
       "output_type": "stream",
       "stream": "stdout",
       "text": [
        "\n",
        "0.1\n",
        "1\n",
        "25\n",
        "0.2\n",
        "2\n",
        "25"
       ]
      },
      {
       "output_type": "stream",
       "stream": "stdout",
       "text": [
        "\n",
        "0.4\n",
        "3\n",
        "50\n",
        "0.1\n",
        "4\n",
        "50\n",
        "0.2\n",
        "5\n",
        "50"
       ]
      },
      {
       "output_type": "stream",
       "stream": "stdout",
       "text": [
        "\n",
        "0.4\n",
        "6\n",
        "100\n",
        "0.1\n",
        "7\n",
        "100\n",
        "0.2\n",
        "8\n",
        "100"
       ]
      },
      {
       "output_type": "stream",
       "stream": "stdout",
       "text": [
        "\n",
        "0.4\n",
        "9\n",
        "200\n",
        "0.1\n",
        "10\n",
        "200\n",
        "0.2\n",
        "11\n",
        "200"
       ]
      },
      {
       "output_type": "stream",
       "stream": "stdout",
       "text": [
        "\n",
        "0.4\n",
        "12\n",
        "400\n",
        "0.1\n",
        "13\n",
        "400"
       ]
      },
      {
       "output_type": "stream",
       "stream": "stdout",
       "text": [
        "\n",
        "0.2\n",
        "14\n",
        "400\n",
        "0.4\n",
        "0\n",
        "25"
       ]
      },
      {
       "output_type": "stream",
       "stream": "stdout",
       "text": [
        "\n",
        "0.1\n",
        "1\n",
        "25\n",
        "0.2\n",
        "2\n",
        "25"
       ]
      },
      {
       "output_type": "stream",
       "stream": "stdout",
       "text": [
        "\n",
        "0.4\n",
        "3\n",
        "50\n",
        "0.1\n",
        "4\n",
        "50"
       ]
      },
      {
       "output_type": "stream",
       "stream": "stdout",
       "text": [
        "\n",
        "0.2\n",
        "5\n",
        "50\n",
        "0.4\n",
        "6\n",
        "100\n",
        "0.1\n",
        "7\n",
        "100"
       ]
      },
      {
       "output_type": "stream",
       "stream": "stdout",
       "text": [
        "\n",
        "0.2\n",
        "8\n",
        "100\n",
        "0.4\n",
        "9\n",
        "200"
       ]
      },
      {
       "output_type": "stream",
       "stream": "stdout",
       "text": [
        "\n",
        "0.1\n",
        "10\n",
        "200\n",
        "0.2\n",
        "11\n",
        "200"
       ]
      },
      {
       "output_type": "stream",
       "stream": "stdout",
       "text": [
        "\n",
        "0.4\n",
        "12\n",
        "400\n",
        "0.1\n",
        "13\n",
        "400\n",
        "0.2\n",
        "14\n",
        "400"
       ]
      },
      {
       "output_type": "stream",
       "stream": "stdout",
       "text": [
        "\n",
        "0.4\n",
        "0\n",
        "25\n",
        "0.1\n",
        "1\n",
        "25"
       ]
      },
      {
       "output_type": "stream",
       "stream": "stdout",
       "text": [
        "\n",
        "0.2\n",
        "2\n",
        "25\n",
        "0.4\n",
        "3\n",
        "50"
       ]
      },
      {
       "output_type": "stream",
       "stream": "stdout",
       "text": [
        "\n",
        "0.1\n",
        "4\n",
        "50\n",
        "0.2\n",
        "5\n",
        "50\n",
        "0.4\n",
        "6\n",
        "100"
       ]
      },
      {
       "output_type": "stream",
       "stream": "stdout",
       "text": [
        "\n",
        "0.1\n",
        "7\n",
        "100\n",
        "0.2\n",
        "8\n",
        "100"
       ]
      },
      {
       "output_type": "stream",
       "stream": "stdout",
       "text": [
        "\n",
        "0.4\n",
        "9\n",
        "200\n",
        "0.1\n",
        "10\n",
        "200"
       ]
      },
      {
       "output_type": "stream",
       "stream": "stdout",
       "text": [
        "\n",
        "0.2\n",
        "11\n",
        "200\n",
        "0.4\n",
        "12\n",
        "400\n",
        "0.1\n",
        "13\n",
        "400"
       ]
      },
      {
       "output_type": "stream",
       "stream": "stdout",
       "text": [
        "\n",
        "0.2\n",
        "14\n",
        "400\n",
        "0.4\n",
        "0\n",
        "25"
       ]
      },
      {
       "output_type": "stream",
       "stream": "stdout",
       "text": [
        "\n",
        "0.1\n",
        "1\n",
        "25\n",
        "0.2\n",
        "2\n",
        "25"
       ]
      },
      {
       "output_type": "stream",
       "stream": "stdout",
       "text": [
        "\n",
        "0.4\n",
        "3\n",
        "50\n",
        "0.1\n",
        "4\n",
        "50"
       ]
      },
      {
       "output_type": "stream",
       "stream": "stdout",
       "text": [
        "\n",
        "0.2\n",
        "5\n",
        "50\n",
        "0.4\n",
        "6\n",
        "100"
       ]
      },
      {
       "output_type": "stream",
       "stream": "stdout",
       "text": [
        "\n",
        "0.1\n",
        "7\n",
        "100\n",
        "0.2\n",
        "8\n",
        "100"
       ]
      },
      {
       "output_type": "stream",
       "stream": "stdout",
       "text": [
        "\n",
        "0.4\n",
        "9\n",
        "200\n",
        "0.1\n",
        "10\n",
        "200\n",
        "0.2\n",
        "11\n",
        "200"
       ]
      },
      {
       "output_type": "stream",
       "stream": "stdout",
       "text": [
        "\n",
        "0.4\n",
        "12\n",
        "400\n",
        "0.1\n",
        "13\n",
        "400\n",
        "0.2\n",
        "14\n",
        "400"
       ]
      },
      {
       "output_type": "stream",
       "stream": "stdout",
       "text": [
        "\n",
        "0.4\n",
        "0\n",
        "25\n",
        "0.1\n",
        "1\n",
        "25"
       ]
      },
      {
       "output_type": "stream",
       "stream": "stdout",
       "text": [
        "\n",
        "0.2\n",
        "2\n",
        "25\n",
        "0.4\n",
        "3\n",
        "50"
       ]
      },
      {
       "output_type": "stream",
       "stream": "stdout",
       "text": [
        "\n",
        "0.1\n",
        "4\n",
        "50\n",
        "0.2\n",
        "5\n",
        "50"
       ]
      },
      {
       "output_type": "stream",
       "stream": "stdout",
       "text": [
        "\n",
        "0.4\n",
        "6\n",
        "100\n",
        "0.1\n",
        "7\n",
        "100\n",
        "0.2\n",
        "8\n",
        "100"
       ]
      },
      {
       "output_type": "stream",
       "stream": "stdout",
       "text": [
        "\n",
        "0.4\n",
        "9\n",
        "200\n",
        "0.1\n",
        "10\n",
        "200"
       ]
      },
      {
       "output_type": "stream",
       "stream": "stdout",
       "text": [
        "\n",
        "0.2\n",
        "11\n",
        "200\n",
        "0.4\n",
        "12\n",
        "400"
       ]
      },
      {
       "output_type": "stream",
       "stream": "stdout",
       "text": [
        "\n",
        "0.1\n",
        "13\n",
        "400\n",
        "0.2\n",
        "14\n",
        "400"
       ]
      },
      {
       "output_type": "stream",
       "stream": "stdout",
       "text": [
        "\n",
        "0.4\n",
        "0\n",
        "25\n",
        "0.1\n",
        "1\n",
        "25"
       ]
      },
      {
       "output_type": "stream",
       "stream": "stdout",
       "text": [
        "\n",
        "0.2\n",
        "2\n",
        "25\n",
        "0.4\n",
        "3\n",
        "50"
       ]
      },
      {
       "output_type": "stream",
       "stream": "stdout",
       "text": [
        "\n",
        "0.1\n",
        "4\n",
        "50\n",
        "0.2\n",
        "5\n",
        "50"
       ]
      },
      {
       "output_type": "stream",
       "stream": "stdout",
       "text": [
        "\n",
        "0.4\n",
        "6\n",
        "100\n",
        "0.1\n",
        "7\n",
        "100\n",
        "0.2\n",
        "8\n",
        "100"
       ]
      },
      {
       "output_type": "stream",
       "stream": "stdout",
       "text": [
        "\n",
        "0.4\n",
        "9\n",
        "200\n",
        "0.1\n",
        "10\n",
        "200"
       ]
      },
      {
       "output_type": "stream",
       "stream": "stdout",
       "text": [
        "\n",
        "0.2\n",
        "11\n",
        "200\n",
        "0.4\n",
        "12\n",
        "400\n",
        "0.1\n",
        "13\n",
        "400"
       ]
      },
      {
       "output_type": "stream",
       "stream": "stdout",
       "text": [
        "\n",
        "0.2\n",
        "14\n",
        "400\n",
        "0.4\n",
        "0\n",
        "25"
       ]
      },
      {
       "output_type": "stream",
       "stream": "stdout",
       "text": [
        "\n",
        "0.1\n",
        "1\n",
        "25\n",
        "0.2\n",
        "2\n",
        "25\n",
        "0.4\n",
        "3\n",
        "50"
       ]
      },
      {
       "output_type": "stream",
       "stream": "stdout",
       "text": [
        "\n",
        "0.1\n",
        "4\n",
        "50\n",
        "0.2\n",
        "5\n",
        "50"
       ]
      },
      {
       "output_type": "stream",
       "stream": "stdout",
       "text": [
        "\n",
        "0.4\n",
        "6\n",
        "100\n",
        "0.1\n",
        "7\n",
        "100"
       ]
      },
      {
       "output_type": "stream",
       "stream": "stdout",
       "text": [
        "\n",
        "0.2\n",
        "8\n",
        "100\n",
        "0.4\n",
        "9\n",
        "200"
       ]
      },
      {
       "output_type": "stream",
       "stream": "stdout",
       "text": [
        "\n",
        "0.1\n",
        "10\n",
        "200\n",
        "0.2\n",
        "11\n",
        "200"
       ]
      },
      {
       "output_type": "stream",
       "stream": "stdout",
       "text": [
        "\n",
        "0.4\n",
        "12\n",
        "400\n",
        "0.1\n",
        "13\n",
        "400"
       ]
      },
      {
       "output_type": "stream",
       "stream": "stdout",
       "text": [
        "\n",
        "0.2\n",
        "14\n",
        "400\n",
        "0.4\n"
       ]
      },
      {
       "metadata": {},
       "output_type": "pyout",
       "prompt_number": 310,
       "text": [
        "array([[ 1.07844456,  1.07844456,  1.07844456],\n",
        "       [ 1.07844456,  1.07844456,  1.07844456],\n",
        "       [ 1.07844456,  1.07844456,  1.07844456],\n",
        "       [ 1.07844456,  1.07844456,  1.07844456],\n",
        "       [ 1.07844456,  1.07844456,  1.07844456]])"
       ]
      }
     ],
     "prompt_number": 310
    },
    {
     "cell_type": "code",
     "collapsed": false,
     "input": [
      "amplitudes"
     ],
     "language": "python",
     "metadata": {},
     "outputs": [
      {
       "metadata": {},
       "output_type": "pyout",
       "prompt_number": 311,
       "text": [
        "array([[ 1.07844456,  1.07844456,  1.07844456],\n",
        "       [ 1.07844456,  1.07844456,  1.07844456],\n",
        "       [ 1.07844456,  1.07844456,  1.07844456],\n",
        "       [ 1.07844456,  1.07844456,  1.07844456],\n",
        "       [ 1.07844456,  1.07844456,  1.07844456]])"
       ]
      }
     ],
     "prompt_number": 311
    },
    {
     "cell_type": "raw",
     "metadata": {},
     "source": [
      "% TA-DAAAH! AND WE HAVE OUR ANSWER!!\n",
      "% \n",
      "% It's hard to see this.  In fact, it's hard to know that we have done\n",
      "% it correctly.  \n",
      "% \n",
      "% Looking at the amplitude matrix, we see that values tend\n",
      "% to increase across the columns.  In the loop above, \n",
      "%   |jj| \n",
      "% was the index that\n",
      "% indicated the jj-th column in the ii-th row, and also that \n",
      "%   |jj| \n",
      "% increases as\n",
      "% the displacements go up.  This would seem to make sense: make the\n",
      "% stimulus larger, and the response should go up."
     ]
    },
    {
     "cell_type": "code",
     "collapsed": false,
     "input": [
      "trial['params']['displacements'].item()[2]"
     ],
     "language": "python",
     "metadata": {},
     "outputs": [
      {
       "metadata": {},
       "output_type": "pyout",
       "prompt_number": 315,
       "text": [
        "0.40000000000000002"
       ]
      }
     ],
     "prompt_number": 315
    },
    {
     "cell_type": "raw",
     "metadata": {},
     "source": [
      "%% \n",
      "% The values going down the row (index \n",
      "%    |ii| \n",
      "% increases) seem to hit a peak and\n",
      "% then decrease \n",
      "% again.  This would seem to indicate that a particular frequency would\n",
      "% produce the largest response.\n",
      "% Since this is \n",
      "%   |ii = 3|\n",
      "% , 100 Hz would seem like it should produce the\n",
      "% largest response"
     ]
    },
    {
     "cell_type": "code",
     "collapsed": false,
     "input": [
      "trial['params']['freqs'].item()[2]"
     ],
     "language": "python",
     "metadata": {},
     "outputs": [
      {
       "metadata": {},
       "output_type": "pyout",
       "prompt_number": 317,
       "text": [
        "100"
       ]
      }
     ],
     "prompt_number": 317
    },
    {
     "cell_type": "raw",
     "metadata": {},
     "source": [
      "% OK!  Seemed to work, and it appears that this cell is most sensitive to\n",
      "% frequencies of 100 Hz, or that it's a band pass filter."
     ]
    },
    {
     "cell_type": "markdown",
     "metadata": {},
     "source": [
      "## Displaying data"
     ]
    },
    {
     "cell_type": "raw",
     "metadata": {},
     "source": [
      "% That was kind of a let down.  It could be hocus pocus.  Or a bug.\n",
      "% We got the answer, I think, but we would also like to *show* that this is\n",
      "% the case by seeing the goods, plotting the data.\n",
      "%\n",
      "% Matlab gives you quite a bit of control over how to produce pretty plots,\n",
      "% like controlling the color of the lines, and such.\n",
      "% However, many of these commands can be a bit tricky, and using them is\n",
      "% part of the art and mastery of matlab programming. Matlab does have a \n",
      "% few simple tools to get you started that we'll make use of now.\n",
      "%\n",
      "% What would we like to see?  \n",
      "% \n",
      "% I want to see what the averages looked like\n",
      "% from which the amplitudes were calculated.  I would like to see \n",
      "% whether I can detect, by eye, either of the effects we see in the\n",
      "%   |amplitudes|\n",
      "% matrix above. To do this, I'd like to also restrict our view\n",
      "% to the stimulus time period\n",
      "%\n",
      "% I might also like to see which values we used in\n",
      "% our calulations.  That is, when we find the maximum response amplitude\n",
      "% during the stimulus, which value did we find?  And also, did we calculate\n",
      "% the baseline correctly?\n",
      "%\n",
      "% Finally, the amplitude matrix is an unsatisfactory representation of this\n",
      "% measurement. I would like to see the amplitudes plotted in a way that\n",
      "% makes sense, but also that might tell us more about these frequency\n",
      "% response functions.\n",
      "% \n",
      "% To do this, I'm going to redo the calculation loop, but while I've got\n",
      "% the trials loaded, and a matrix of response data for one \n",
      "% stimulus, I'm going to plot the responses and their mean, show that I'm\n",
      "% calculating the baseline correctly, and point out the value I thought was\n",
      "% the maximum.\n",
      "% \n",
      "% Once this is done, I'll plot the amplitude matrix in an intersting way\n"
     ]
    },
    {
     "cell_type": "raw",
     "metadata": {},
     "source": [
      "TODO"
     ]
    }
   ],
   "metadata": {}
  }
 ]
}